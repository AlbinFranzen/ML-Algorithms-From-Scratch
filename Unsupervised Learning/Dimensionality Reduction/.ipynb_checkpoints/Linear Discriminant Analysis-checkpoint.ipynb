{
 "cells": [
  {
   "cell_type": "markdown",
   "metadata": {},
   "source": [
    "# Linear Discriminant Analysis\n",
    "\n",
    "With linear discriminant analysis we attempt to separate our predictors by projecting them onto a lower dimension and fit a model according to that projection. The formula to project a vector x onto a unit vector w is:\n",
    "\n",
    "$$p = (w^T x)w$$\n",
    "\n",
    "Generally the goal of LDA is to do two things:\n",
    "\n",
    "1. Maximise the distance between the means of the classes on the projection\n",
    "2. Minimise the variation of each class on the projection\n",
    "\n",
    "For two classes the function we want to maximise is called Fisher's LDA:\n",
    "\n",
    "$$J(w)=\\frac{\\text{distance between means}}{\\text{sum of residual sum of squares of offset}}=\\frac{w^TBw}{w^TSw}$$\n",
    "\n",
    "We define B as follows:\n",
    "\n",
    "$$B=\\sum_{i=1}^k (\\mu_i-\\mu)(\\mu_i-\\mu)^T=\\sum_{i=1}^k \\text{Covariance Matrix}(\\mu_i)$$\n",
    "\n",
    "We can also define S as:\n",
    "\n",
    "$$S=\\sum_{i=1}^k(x_i-\\mu_i)(x_i-\\mu_i)^T=\\sum_{i=1}^k \\text{Covariance Matrix}(x_i)$$\n",
    "\n",
    "It can be proven that the optimal w that minimises Fisher's LDA is the eigenvector corresponding to the largest eigenvalue of $S^{-1}B$\n",
    "\n",
    "Now it's time to implement the algorithm. First we can load the data:"
   ]
  },
  {
   "cell_type": "code",
   "execution_count": 1,
   "metadata": {},
   "outputs": [],
   "source": [
    "#stability\n",
    "import numpy as np\n",
    "np.random.seed(42)\n",
    "\n",
    "# To plot pretty figures\n",
    "%matplotlib inline\n",
    "import matplotlib as mpl\n",
    "import matplotlib.pyplot as plt\n",
    "mpl.rc('axes', labelsize=14)\n",
    "mpl.rc('xtick', labelsize=12)\n",
    "mpl.rc('ytick', labelsize=12)"
   ]
  },
  {
   "cell_type": "code",
   "execution_count": 2,
   "metadata": {},
   "outputs": [],
   "source": [
    "from sklearn import datasets\n",
    "\n",
    "# import some data\n",
    "iris = datasets.load_iris()\n",
    "f_0 = iris.data[:,2]  # we only take the first two features.\n",
    "f_1 = iris.data[:,3]\n",
    "X = np.vstack((f_0, f_1))\n",
    "\n",
    "X = X.T\n",
    "X = X[:100]\n",
    "X1 = X[50:100]\n",
    "X2 = X[:50]\n",
    "y = iris.target"
   ]
  },
  {
   "cell_type": "code",
   "execution_count": 3,
   "metadata": {},
   "outputs": [
    {
     "data": {
      "image/png": "[encoded data removed]",
      "text/plain": [
       "<Figure size 432x288 with 1 Axes>"
      ]
     },
     "metadata": {
      "needs_background": "light"
     },
     "output_type": "display_data"
    }
   ],
   "source": [
    "plt.scatter(X1[:,0],X1[:,1],color=\"g\",alpha=0.3)\n",
    "plt.scatter(X2[:,0],X2[:,1],color=\"r\",alpha=0.3)\n",
    "plt.show()"
   ]
  },
  {
   "cell_type": "markdown",
   "metadata": {},
   "source": [
    "This looks great. Let's see what the optimal projection for this data is:"
   ]
  },
  {
   "cell_type": "code",
   "execution_count": 4,
   "metadata": {},
   "outputs": [],
   "source": [
    "#get S\n",
    "S = np.cov(X1.T) + np.cov(X2.T)"
   ]
  },
  {
   "cell_type": "code",
   "execution_count": 5,
   "metadata": {},
   "outputs": [],
   "source": [
    "#get B\n",
    "means = np.vstack((X1.mean(0), X2.mean(0)))\n",
    "B = np.cov(means.T) "
   ]
  },
  {
   "cell_type": "code",
   "execution_count": 6,
   "metadata": {},
   "outputs": [
    {
     "name": "stdout",
     "output_type": "stream",
     "text": [
      "[ 1.63684255e+01 -8.88178420e-16]\n"
     ]
    }
   ],
   "source": [
    "#get the eigenvalues of S^-1 B\n",
    "eigen_vals, eigen_vecs = np.linalg.eig(np.linalg.inv(S).dot(B))\n",
    "print(eigen_vals)"
   ]
  },
  {
   "cell_type": "markdown",
   "metadata": {},
   "source": [
    "We see the highest eigenvalue is the first one:"
   ]
  },
  {
   "cell_type": "code",
   "execution_count": 7,
   "metadata": {},
   "outputs": [],
   "source": [
    "w = eigen_vecs[:,0]\n",
    "w = w.reshape((1,2))"
   ]
  },
  {
   "cell_type": "code",
   "execution_count": 8,
   "metadata": {},
   "outputs": [],
   "source": [
    "proj = X.dot(w.T).dot(w)"
   ]
  },
  {
   "cell_type": "code",
   "execution_count": 9,
   "metadata": {},
   "outputs": [
    {
     "data": {
      "image/png": "[encoded data removed]",
      "text/plain": [
       "<Figure size 432x288 with 1 Axes>"
      ]
     },
     "metadata": {
      "needs_background": "light"
     },
     "output_type": "display_data"
    }
   ],
   "source": [
    "plt.scatter(proj[50:,0],proj[50:,1],color=\"g\",alpha=0.3)\n",
    "plt.scatter(proj[:50,0],proj[:50,1],color=\"r\",alpha=0.3)\n",
    "\n",
    "plt.scatter(X1[:,0],X1[:,1],color=\"g\",alpha=0.3)\n",
    "plt.scatter(X2[:,0],X2[:,1],color=\"r\",alpha=0.3)\n",
    "plt.show()"
   ]
  },
  {
   "cell_type": "code",
   "execution_count": null,
   "metadata": {},
   "outputs": [],
   "source": []
  }
 ],
 "metadata": {
  "kernelspec": {
   "display_name": "Python 3",
   "language": "python",
   "name": "python3"
  },
  "language_info": {
   "codemirror_mode": {
    "name": "ipython",
    "version": 3
   },
   "file_extension": ".py",
   "mimetype": "text/x-python",
   "name": "python",
   "nbconvert_exporter": "python",
   "pygments_lexer": "ipython3",
   "version": "3.7.5"
  }
 },
 "nbformat": 4,
 "nbformat_minor": 4
}
