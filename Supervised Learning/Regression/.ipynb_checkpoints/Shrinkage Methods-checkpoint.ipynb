{
 "cells": [
  {
   "cell_type": "markdown",
   "metadata": {},
   "source": [
    "# Shrinkage Methods\n",
    "\n",
    "Shrinkage methods work similar to standard linear regression techniques except they regularize the coefficient estimates to reduce variance. This is done by adding a penalty for the coefficients to shrink them towards zero.\n",
    "\n",
    "## Ridge Regression \n",
    "\n",
    "We know the value to minimise for least squares is:\n",
    "\n",
    "$$\\text{RSS}=\\sum_{i=1}^n (\\theta^T x_i-y_i)^2$$\n",
    "\n",
    "However for ridge regression we add a shrinkage penalty to make the coefficients closer to zero:\n",
    "\n",
    "$$\\text{RSS}+\\lambda \\sum_{j=1}^p\\theta_j^2$$\n",
    "\n",
    "This can be minimised using gradient descent or with a closed form solution using an adjusted normal equation:\n",
    "\n",
    "$$\\hat{\\theta} = (\\lambda I +X^{T}X)^{-1}X^{T}y$$"
   ]
  },
  {
   "cell_type": "code",
   "execution_count": 13,
   "metadata": {},
   "outputs": [],
   "source": [
    "%matplotlib inline\n",
    "import matplotlib.pyplot as plt\n",
    "import numpy as np\n",
    "\n",
    "np.random.seed(42)"
   ]
  },
  {
   "cell_type": "code",
   "execution_count": 14,
   "metadata": {},
   "outputs": [],
   "source": [
    "X = 2 * np.random.rand(100,1)\n",
    "y = 4 + 3 * X + np.random.randn(100,1)\n",
    "X_add = np.linspace(2,2.5,20).reshape(-1,1)\n",
    "y_add = 30+np.random.randn(20,1)\n",
    "\n",
    "\n",
    "X = np.vstack((X, X_add))\n",
    "y = np.vstack((y, y_add))"
   ]
  },
  {
   "cell_type": "code",
   "execution_count": 15,
   "metadata": {},
   "outputs": [
    {
     "data": {
      "image/png": "[encoded data removed]",
      "text/plain": [
       "<Figure size 432x288 with 1 Axes>"
      ]
     },
     "metadata": {
      "needs_background": "light"
     },
     "output_type": "display_data"
    }
   ],
   "source": [
    "%matplotlib inline\n",
    "import matplotlib as mpl\n",
    "import matplotlib.pyplot as plt\n",
    "\n",
    "plt.plot(X, y, \"b.\")\n",
    "plt.xlabel(\"$x$\", fontsize=18)\n",
    "plt.ylabel(\"$y$\", rotation=0, fontsize=18)\n",
    "plt.axis([0, 2.5, 0, 40])\n",
    "plt.show()"
   ]
  },
  {
   "cell_type": "markdown",
   "metadata": {},
   "source": [
    "Above we have our data. Now let's create a ridge regression with $\\lambda=5$."
   ]
  },
  {
   "cell_type": "code",
   "execution_count": 16,
   "metadata": {},
   "outputs": [
    {
     "data": {
      "text/plain": [
       "array([[-0.22046797],\n",
       "       [ 9.42218811]])"
      ]
     },
     "execution_count": 16,
     "metadata": {},
     "output_type": "execute_result"
    }
   ],
   "source": [
    "X_b = np.c_[ np.ones(( 120, 1)), X] # add bias vector of 1s\n",
    "simple_theta_hat = np.linalg.inv(X_b.T.dot(X_b)).dot(X_b.T).dot(y) #normal equation\n",
    "simple_theta_hat"
   ]
  },
  {
   "cell_type": "code",
   "execution_count": 17,
   "metadata": {},
   "outputs": [
    {
     "data": {
      "text/plain": [
       "array([[2.42601704],\n",
       "       [5.39316465]])"
      ]
     },
     "execution_count": 17,
     "metadata": {},
     "output_type": "execute_result"
    }
   ],
   "source": [
    "lambda_identity = np.identity(X_b.shape[1])*100\n",
    "\n",
    "ridge_theta_hat = np.linalg.inv(lambda_identity+X_b.T.dot(X_b)).dot(X_b.T).dot(y) #adjusted normal equation\n",
    "ridge_theta_hat"
   ]
  },
  {
   "cell_type": "code",
   "execution_count": 6,
   "metadata": {},
   "outputs": [
    {
     "data": {
      "image/png": "[encoded data removed]",
      "text/plain": [
       "<Figure size 432x288 with 1 Axes>"
      ]
     },
     "metadata": {
      "needs_background": "light"
     },
     "output_type": "display_data"
    }
   ],
   "source": [
    "x_new = np.linspace(0,2.5,100) #generate values for x to plot\n",
    "x_new_b = np.c_[ np.ones(( 100, 1)), x_new] #add bias vector of 1s \n",
    "\n",
    "y_pred_simple = x_new_b.dot(simple_theta_hat) #create predictions\n",
    "y_pred_ridge = x_new_b.dot(ridge_theta_hat) #create predictions\n",
    "\n",
    "plt.plot(x_new, y_pred_simple, '-r')\n",
    "plt.plot(x_new, y_pred_ridge, '-y')\n",
    "plt.plot(X, y, \"b.\")\n",
    "plt.xlabel(\"$x$\", fontsize=18)\n",
    "plt.ylabel(\"$y$\", rotation=0, fontsize=18)\n",
    "plt.axis([0, 2.5, 0, 40])\n",
    "plt.show()"
   ]
  },
  {
   "cell_type": "markdown",
   "metadata": {},
   "source": [
    "Above the red line is the simple linear regression and the yellow line is the regularised ridge regression. It can be seen how it doesn't take outliers as much into account.\n",
    "\n",
    "# Lasso Regression\n",
    "\n",
    "Lasso regression is similar to ridge regression except it uses the l1 norm instead:\n",
    "\n",
    "$$\\text{RSS}+\\lambda \\sum_{j=1}^p|\\theta_j|$$\n",
    "\n",
    "There is no closed form solution for lasso regression so gradient descent can be used where the gradient is:\n",
    "\n",
    "$$\\frac 2 m X^T (X\\theta -y)+\\lambda \\text{ sgn}(\\theta)$$"
   ]
  },
  {
   "cell_type": "code",
   "execution_count": 19,
   "metadata": {},
   "outputs": [
    {
     "data": {
      "text/plain": [
       "array([[-0.17408255],\n",
       "       [ 6.78129576]])"
      ]
     },
     "execution_count": 19,
     "metadata": {},
     "output_type": "execute_result"
    }
   ],
   "source": [
    "eta = 0.1 #learning rate\n",
    "n_iterations = 1000\n",
    "m = 100\n",
    "lambda_lasso = 10\n",
    "\n",
    "X_b = np.c_[ np.ones(( 120, 1)), X] # add bias vector of 1s\n",
    "\n",
    "np.random.seed(42)\n",
    "lasso_theta_hat = np.random.randn(2,1) #random initialisation\n",
    "for iteration in range(n_iterations):\n",
    "    gradients = 2/m * X_b.T.dot(X_b.dot(lasso_theta_hat) - y)+lambda_lasso*np.sign(lasso_theta_hat)\n",
    "    lasso_theta_hat -= eta * gradients\n",
    "lasso_theta_hat"
   ]
  },
  {
   "cell_type": "code",
   "execution_count": 20,
   "metadata": {},
   "outputs": [
    {
     "data": {
      "image/png": "[encoded data removed]",
      "text/plain": [
       "<Figure size 432x288 with 1 Axes>"
      ]
     },
     "metadata": {
      "needs_background": "light"
     },
     "output_type": "display_data"
    }
   ],
   "source": [
    "x_new = np.linspace(0,2.5,100) #generate values for x to plot\n",
    "x_new_b = np.c_[ np.ones(( 100, 1)), x_new] #add bias vector of 1s \n",
    "\n",
    "y_pred_simple = x_new_b.dot(simple_theta_hat) #create predictions\n",
    "y_pred_lasso = x_new_b.dot(lasso_theta_hat) #create predictions\n",
    "\n",
    "plt.plot(x_new, y_pred_simple, '-r')\n",
    "plt.plot(x_new, y_pred_lasso, '-y')\n",
    "plt.plot(X, y, \"b.\")\n",
    "plt.xlabel(\"$x$\", fontsize=18)\n",
    "plt.ylabel(\"$y$\", rotation=0, fontsize=18)\n",
    "plt.axis([0, 2.5, 0, 40])\n",
    "plt.show()"
   ]
  },
  {
   "cell_type": "markdown",
   "metadata": {},
   "source": [
    "Again we can see that the yellow lasso line regularises the data and reduces bias. One interesting thing with lasso regression is that it can set the parameters of certain features to zero so lasso regression can also be used for feature selection.\n",
    "\n",
    "# ElasticNet\n",
    "\n",
    "Elasticnet is simply a combination of ridge and lasso regression where the error becomes:\n",
    "\n",
    "$$\\text{RSS}+r\\alpha \\sum_{j=1}^p|\\theta_j|+\\frac{1-r}{2}\\alpha \\sum_{j=1}^p\\theta_j^2$$\n",
    "\n",
    "Here r is the ratio between the l1 and l2 norms. The gradient then becomes:\n",
    "\n",
    "$$\\frac 2 m X^T (X\\theta -y)+r\\alpha \\text{ sgn}(\\theta)+(1-r)\\alpha \\theta$$"
   ]
  },
  {
   "cell_type": "code",
   "execution_count": 21,
   "metadata": {},
   "outputs": [
    {
     "data": {
      "text/plain": [
       "array([[2.10396745],\n",
       "       [5.74163587]])"
      ]
     },
     "execution_count": 21,
     "metadata": {},
     "output_type": "execute_result"
    }
   ],
   "source": [
    "eta = 0.1 #learning rate\n",
    "n_iterations = 1000\n",
    "m = 100\n",
    "r = 0.5\n",
    "alpha = 3\n",
    "\n",
    "X_b = np.c_[ np.ones(( 120, 1)), X] # add bias vector of 1s\n",
    "\n",
    "np.random.seed(42)\n",
    "elastic_theta_hat = np.random.randn(2,1) #random initialisation\n",
    "for iteration in range(n_iterations):\n",
    "    gradients = 2/m * X_b.T.dot(X_b.dot(elastic_theta_hat) - y)+r*alpha*np.sign(elastic_theta_hat)+(1-r)*alpha*elastic_theta_hat\n",
    "    elastic_theta_hat -= eta * gradients\n",
    "elastic_theta_hat"
   ]
  },
  {
   "cell_type": "code",
   "execution_count": 24,
   "metadata": {},
   "outputs": [
    {
     "data": {
      "image/png": "[encoded data removed]",
      "text/plain": [
       "<Figure size 432x288 with 1 Axes>"
      ]
     },
     "metadata": {
      "needs_background": "light"
     },
     "output_type": "display_data"
    }
   ],
   "source": [
    "x_new = np.linspace(0,2.5,100) #generate values for x to plot\n",
    "x_new_b = np.c_[ np.ones(( 100, 1)), x_new] #add bias vector of 1s \n",
    "\n",
    "y_pred_simple = x_new_b.dot(simple_theta_hat) #create predictions\n",
    "y_pred_ridge = x_new_b.dot(ridge_theta_hat) #create predictions\n",
    "y_pred_lasso = x_new_b.dot(lasso_theta_hat) #create predictions\n",
    "y_pred_elastic = x_new_b.dot(elastic_theta_hat) #create predictions\n",
    "\n",
    "plt.plot(x_new, y_pred_simple, '-r')\n",
    "plt.plot(x_new, y_pred_ridge, '-y')\n",
    "plt.plot(x_new, y_pred_lasso, '-g')\n",
    "plt.plot(x_new, y_pred_elastic, '-m')\n",
    "plt.plot(X, y, \"b.\")\n",
    "plt.xlabel(\"$x$\", fontsize=18)\n",
    "plt.ylabel(\"$y$\", rotation=0, fontsize=18)\n",
    "plt.axis([0, 2.5, 0, 40])\n",
    "plt.show()"
   ]
  },
  {
   "cell_type": "markdown",
   "metadata": {},
   "source": [
    "In this specific case of $r=0.5$ it seems our elastic regression is very similar to the ridge regression although slightly steeper as expected."
   ]
  },
  {
   "cell_type": "code",
   "execution_count": null,
   "metadata": {},
   "outputs": [],
   "source": []
  }
 ],
 "metadata": {
  "kernelspec": {
   "display_name": "Python 3",
   "language": "python",
   "name": "python3"
  },
  "language_info": {
   "codemirror_mode": {
    "name": "ipython",
    "version": 3
   },
   "file_extension": ".py",
   "mimetype": "text/x-python",
   "name": "python",
   "nbconvert_exporter": "python",
   "pygments_lexer": "ipython3",
   "version": "3.7.5"
  }
 },
 "nbformat": 4,
 "nbformat_minor": 4
}
