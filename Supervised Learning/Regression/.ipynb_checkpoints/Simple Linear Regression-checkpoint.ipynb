{
 "cells": [
  {
   "cell_type": "markdown",
   "metadata": {},
   "source": [
    "# Simple Linear Regression\n",
    "\n",
    "A simple linear regression is a certain model which predicts the linear relationship between an independant variable $x$ and a corresponding dependant variable $y$. It's parametric equation can be written as:\n",
    "\n",
    "$$y=\\theta_0+\\theta_1 x+\\epsilon \\tag{1}$$\n",
    "\n",
    "Equation (1) consists of two scalar coefficents $\\theta_0$ and $\\theta_1$ known as the *intercept* and *slope* of the model followed by an error rate $\\epsilon$. The aim of a simple linear regression is to find the slope and intercept which minimises the error rate. After these coefficients have been found using various methods, they are applied to the data to produce a prediction $\\hat y$.\n",
    "\n",
    " $$\\hat y=\\hat \\theta_0+\\hat \\theta_1 x=\\mathbf x \\hat \\theta \\tag 2$$\n",
    " \n",
    "Notice that the first column of $\\mathbf x$ in equation (2) needs to be ones since the intercept isn't multipled by the dependant variable but is multiplied by 1. Additionally now it becomes clearer that the error of the model is a function of $y-\\hat y$ depending on the performance metric used if you subtract (1) from (2).\n",
    "\n",
    "Let's create some data to apply our model to"
   ]
  },
  {
   "cell_type": "code",
   "execution_count": 18,
   "metadata": {},
   "outputs": [],
   "source": [
    "%matplotlib inline\n",
    "import matplotlib.pyplot as plt\n",
    "import numpy as np\n",
    "\n",
    "np.random.seed(42)"
   ]
  },
  {
   "cell_type": "code",
   "execution_count": 19,
   "metadata": {},
   "outputs": [],
   "source": [
    "X = 2 * np.random.rand(100,1)\n",
    "y = 4 + 3 * X + np.random.randn(100,1)"
   ]
  },
  {
   "cell_type": "code",
   "execution_count": 24,
   "metadata": {},
   "outputs": [
    {
     "data": {
      "image/png": "[encoded data removed]",
      "text/plain": [
       "<Figure size 432x288 with 1 Axes>"
      ]
     },
     "metadata": {
      "needs_background": "light"
     },
     "output_type": "display_data"
    }
   ],
   "source": [
    "plt.plot(X, y, \"b.\")\n",
    "plt.xlabel(\"$x$\", fontsize=18)\n",
    "plt.ylabel(\"$y$\", rotation=0, fontsize=18)\n",
    "plt.axis([0, 2, 0, 15])\n",
    "plt.show()"
   ]
  },
  {
   "cell_type": "markdown",
   "metadata": {},
   "source": [
    "Great! Now we have normally distributed data centered around the line $y=4+3x$. \n",
    "\n",
    "The next step is to estimate the coefficents of the linear regression. This can be done by assigning an error metric to determine how well our coefficients fit the line. The most common way to do this is with the *least squares* criterion, or more specifically the *residual sum of squares* which takes sum of the square of the error of each instance to the fitted line:\n",
    "\n",
    "$$\\text{RSS}=(y_1-\\hat{y}_1)^{2}+(y_2-\\hat{y}_2)^{2}+...+(y_n-\\hat{y}_n)^{2} \\tag 3$$\n",
    "\n",
    "## Methods of determining the model parameters\n",
    "\n",
    "### 1. The Normal Equation\n",
    "\n",
    "One closed-form solution to find the coefficients of a simple linear regression is through the *normal equation*:\n",
    "\n",
    "$$\\hat \\theta = (X^T X)^{-1}X^Ty \\tag 4$$\n",
    "\n",
    "Implemented with code this gives us:"
   ]
  },
  {
   "cell_type": "code",
   "execution_count": 30,
   "metadata": {},
   "outputs": [
    {
     "data": {
      "text/plain": [
       "array([[4.21509616],\n",
       "       [2.77011339]])"
      ]
     },
     "execution_count": 30,
     "metadata": {},
     "output_type": "execute_result"
    }
   ],
   "source": [
    "X_b = np.c_[ np.ones(( 100, 1)), X] #adds bias vector of 1s as first column\n",
    "theta_hat = np.linalg.inv(X_b.T.dot(X_b)).dot(X_b.T).dot(y)\n",
    "theta_hat"
   ]
  },
  {
   "cell_type": "markdown",
   "metadata": {},
   "source": [
    "Now we can plot the line given by these coefficients."
   ]
  },
  {
   "cell_type": "code",
   "execution_count": 31,
   "metadata": {},
   "outputs": [
    {
     "data": {
      "image/png": "[encoded data removed]",
      "text/plain": [
       "<Figure size 432x288 with 1 Axes>"
      ]
     },
     "metadata": {
      "needs_background": "light"
     },
     "output_type": "display_data"
    }
   ],
   "source": [
    "x_new = np.linspace(0,2,100) #generate values for x to plot the line\n",
    "x_new_b = np.c_[ np.ones(( 100, 1)), x_new] #add bias vector of 1s \n",
    "y_pred = x_new_b.dot(theta_hat) #create predictions\n",
    "\n",
    "plt.plot(x_new, y_pred, '-r')\n",
    "plt.plot(X, y, \"b.\")\n",
    "plt.xlabel(\"$x$\", fontsize=18)\n",
    "plt.ylabel(\"$y$\", rotation=0, fontsize=18)\n",
    "plt.axis([0, 2, 0, 15])\n",
    "plt.show()"
   ]
  },
  {
   "cell_type": "markdown",
   "metadata": {},
   "source": [
    "### 2. Moore-Penrose Pseudoinverse\n",
    "\n",
    "Another closed-form solution for minimising the RSS is with the *Moore-Penrose Pseudoinverse*:\n",
    "\n",
    "$$\\hat \\theta = X^+ y \\tag 5$$ \n",
    "\n",
    "$X^+$ is the *pseudoinverse* of $X$ and can be found using *Single Value Decomposition (SVD)* which factors $X$ into the three matrices $U, \\Sigma, V^T$ and then computes the pseudoinverse using:\n",
    "\n",
    "$$X^+=V\\Sigma^+ U^T$$\n",
    "\n",
    "To compute $\\Sigma^+$ all nonzero values are replaced with their reciprocal, all other entries are filled with zeros and finally the matrix is transposed."
   ]
  },
  {
   "cell_type": "code",
   "execution_count": 85,
   "metadata": {},
   "outputs": [
    {
     "data": {
      "text/plain": [
       "array([[4.21509616],\n",
       "       [2.77011339]])"
      ]
     },
     "execution_count": 85,
     "metadata": {},
     "output_type": "execute_result"
    }
   ],
   "source": [
    "U, S, V_transpose = np.linalg.svd(X_b) #SVD decomposition by numpy\n",
    "\n",
    "U_transpose = U.T #Transpose U\n",
    "S_plus = np.hstack([np.diag(1/S), np.zeros([2, X_b.shape[0]])]) #create matrix of zeros around reciprocal of S\n",
    "V = V_transpose.T #\"Untranspose\" V\n",
    "\n",
    "X_plus = V.dot(S_plus).dot(U_transpose) #Combine using formula for pseudoinverse\n",
    "\n",
    "theta_hat_penrose = X_plus.dot(y) #predictions\n",
    "theta_hat_penrose"
   ]
  },
  {
   "cell_type": "markdown",
   "metadata": {},
   "source": [
    "As we can see we get the same result for our thetas. This method is often preferred for larger datasets as it is less computationally heavy and even works if $X^TX$ isn't invertible unlike the normal equation. This can occur when there are less data points than features."
   ]
  },
  {
   "cell_type": "markdown",
   "metadata": {},
   "source": [
    "### Gradient Descent\n",
    "\n",
    "So far we have only looked at closed-form solutions of finding $\\hat \\theta$. The coefficients can also be found using methods such as gradient descent which iteratively search the parameter space to find the optimal coefficients using numerical methods. More about this can be found under model optimisation."
   ]
  },
  {
   "cell_type": "code",
   "execution_count": null,
   "metadata": {},
   "outputs": [],
   "source": []
  }
 ],
 "metadata": {
  "kernelspec": {
   "display_name": "Python 3",
   "language": "python",
   "name": "python3"
  },
  "language_info": {
   "codemirror_mode": {
    "name": "ipython",
    "version": 3
   },
   "file_extension": ".py",
   "mimetype": "text/x-python",
   "name": "python",
   "nbconvert_exporter": "python",
   "pygments_lexer": "ipython3",
   "version": "3.7.5"
  }
 },
 "nbformat": 4,
 "nbformat_minor": 4
}
