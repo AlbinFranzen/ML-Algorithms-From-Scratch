{
 "cells": [
  {
   "cell_type": "markdown",
   "metadata": {},
   "source": [
    "# Regression Trees\n",
    "\n",
    "Regression trees essentially attempt to partition the dataset using many if statements. We will implement it on the below on 2d data:"
   ]
  },
  {
   "cell_type": "code",
   "execution_count": 18,
   "metadata": {},
   "outputs": [],
   "source": [
    "import numpy as np\n",
    "np.random.seed(42)"
   ]
  },
  {
   "cell_type": "code",
   "execution_count": 19,
   "metadata": {},
   "outputs": [],
   "source": [
    "X = 2 * np.random.rand(30,1)\n",
    "y = np.random.randn(30,1)\n",
    "X_add = np.linspace(2,4,30).reshape(-1,1)\n",
    "y_add = 2+np.random.randn(30,1)\n",
    "\n",
    "\n",
    "X = np.vstack((X, X_add))\n",
    "y = np.vstack((y, y_add))"
   ]
  },
  {
   "cell_type": "code",
   "execution_count": 20,
   "metadata": {},
   "outputs": [
    {
     "data": {
      "image/png": "[encoded data removed]",
      "text/plain": [
       "<Figure size 432x288 with 1 Axes>"
      ]
     },
     "metadata": {
      "needs_background": "light"
     },
     "output_type": "display_data"
    }
   ],
   "source": [
    "%matplotlib inline\n",
    "import matplotlib as mpl\n",
    "import matplotlib.pyplot as plt\n",
    "\n",
    "plt.plot(X, y, \"b.\")\n",
    "plt.xlabel(\"$x$\", fontsize=18)\n",
    "plt.ylabel(\"$y$\", rotation=0, fontsize=18)\n",
    "plt.show()"
   ]
  },
  {
   "cell_type": "markdown",
   "metadata": {},
   "source": [
    "## Recursive Binary Splitting\n",
    "\n",
    "Regression trees essentially are nested if/else statements which create high dimensional \"boxes\" to create a regression. Instead of attempting to guess the size of each box recursive binary splitting is used which starts at the top of a tree and splits each box downwards. An example is a 3 box scenario. First the data is split into two sections and later one of the sections is split into two again.\n",
    "\n",
    "### Splitting Criterion\n",
    "\n",
    "There are different ways to choose how to split the data into two. Below we look at some different methods:\n",
    "\n",
    "### Minimising Residual Sum of Squares\n",
    "\n",
    "One method of splitting the tree is by minimising the RSS for each binary split where the error becomes:\n",
    "\n",
    "$$\\sum_{x_i\\in R_1} (y_i-\\hat{y_{R_1}})^2 + \\sum_{x_i\\in R_2} (y_i-\\hat{y_{R_2}})^2$$\n",
    "\n",
    "Let's implement this below:"
   ]
  },
  {
   "cell_type": "code",
   "execution_count": 34,
   "metadata": {},
   "outputs": [],
   "source": [
    "idx = np.argsort(X[:,0])\n",
    "X_sorted = X[idx]\n",
    "y_sorted = y[idx]"
   ]
  },
  {
   "cell_type": "code",
   "execution_count": 210,
   "metadata": {},
   "outputs": [
    {
     "data": {
      "text/plain": [
       "28"
      ]
     },
     "execution_count": 210,
     "metadata": {},
     "output_type": "execute_result"
    }
   ],
   "source": [
    "def minimiseRSS(X_vals, y_vals): #input sorted list\n",
    "    lowest_RSS     = 1000\n",
    "    lowest_RSS_idx = 0\n",
    "\n",
    "    for i in range(len(X_vals)):\n",
    "        RSS_left = ((X_vals[:i+1] - X_vals[:i+1].mean())**2).sum()\n",
    "        RSS_right = ((X_vals[i:] - X_vals[i:].mean())**2).sum()\n",
    "\n",
    "        if (RSS_left+RSS_right) < lowest_RSS:\n",
    "            lowest_RSS = RSS_left+RSS_right\n",
    "            lowest_RSS_idx = i\n",
    "\n",
    "    return lowest_RSS_idx\n",
    "    \n",
    "minimiseRSS(X_sorted, y_sorted)"
   ]
  },
  {
   "cell_type": "code",
   "execution_count": 211,
   "metadata": {},
   "outputs": [
    {
     "data": {
      "image/png": "[encoded data removed]",
      "text/plain": [
       "<Figure size 432x288 with 1 Axes>"
      ]
     },
     "metadata": {
      "needs_background": "light"
     },
     "output_type": "display_data"
    }
   ],
   "source": [
    "x_plot_left = np.linspace(0,X_sorted[28],100)\n",
    "x_plot_right = np.linspace(X_sorted[28],4,100)\n",
    "\n",
    "\n",
    "plt.plot(x_plot_left, np.ones((100,1)) * y_sorted[:28].mean(), \"r\")\n",
    "plt.plot(x_plot_right, np.ones((100,1)) * y_sorted[28:].mean(), \"r\")\n",
    "\n",
    "\n",
    "plt.plot(X, y, \"b.\")\n",
    "\n",
    "plt.xlabel(\"$x$\", fontsize=18)\n",
    "plt.ylabel(\"$y$\", rotation=0, fontsize=18)\n",
    "plt.show()"
   ]
  },
  {
   "cell_type": "markdown",
   "metadata": {},
   "source": [
    "And now we can repeat the process multiple times recursively with a stop criteria of a minimum amount of observations to get:"
   ]
  },
  {
   "cell_type": "code",
   "execution_count": 218,
   "metadata": {},
   "outputs": [
    {
     "data": {
      "image/png": "[encoded data removed]",
      "text/plain": [
       "<Figure size 432x288 with 1 Axes>"
      ]
     },
     "metadata": {
      "needs_background": "light"
     },
     "output_type": "display_data"
    }
   ],
   "source": [
    "X_plot = []\n",
    "y_plot = []\n",
    "\n",
    "plt.plot(X, y, \"b.\")\n",
    "\n",
    "\n",
    "stopping_criterion = 5\n",
    "def recursiveBinarySplitting(X_vals, y_vals):\n",
    "    idx = minimiseRSS(X_vals, y_vals)\n",
    "    if idx <= stopping_criterion:\n",
    "        return 0\n",
    "    else:\n",
    "        if recursiveBinarySplitting(X_vals[:idx], y_vals[:idx]) == 0 or recursiveBinarySplitting(X_vals[idx:], y_vals[idx:]) == 0:\n",
    "            x_plot = np.linspace(X_vals[0], X_vals[idx],100)\n",
    "            plt.plot(x_plot, np.ones((100,1)) * y_vals[:idx].mean(), \"r\")\n",
    "            \n",
    "            x_plot = np.linspace(X_vals[idx], X_vals[-1],100)\n",
    "            plt.plot(x_plot, np.ones((100,1)) * y_vals[idx:].mean(), \"r\")\n",
    "        \n",
    "recursiveBinarySplitting(X_sorted, y_sorted)\n",
    "\n",
    "plt.xlabel(\"$x$\", fontsize=18)\n",
    "plt.ylabel(\"$y$\", rotation=0, fontsize=18)\n",
    "plt.show()"
   ]
  },
  {
   "cell_type": "markdown",
   "metadata": {},
   "source": [
    "Now we can repeat this splitting as many times as we wish. However doing it too many times will lead to overfitting and this is where tree pruning comes in.\n",
    "\n",
    "### Tree Pruning\n",
    "\n",
    "Tree pruning attempts to regularise decision trees by first creating a very large tree $T_0$ and then *prunes* it to obtain a smaller, more regularised subtree. We want to choose the subtree to minimise the test error but cross validation can be too time consuming for large trees so instead *cost complexity pruning*, also known as *weakest link pruning*, is commonly used. Cost complexity pruning attempts to minimise:\n",
    "\n",
    "$$\\sum_{m=1}^{|T|}\\sum_{x_i\\in R_m} (y_i-\\hat{y_{R_m}})^2 + \\alpha |T|$$\n",
    "\n",
    "Where $|T|$ is the number of terminal nodes and $\\alpha$ is the tuning parameter. To do cost complexity pruning first we create a large tree from recursive binary splitting and then use the above formula to generate the cost of each tree. Let's do this on the tree below with 3 nodes:"
   ]
  },
  {
   "cell_type": "code",
   "execution_count": 220,
   "metadata": {},
   "outputs": [
    {
     "data": {
      "image/png": "[encoded data removed]",
      "text/plain": [
       "<Figure size 432x288 with 1 Axes>"
      ]
     },
     "metadata": {
      "needs_background": "light"
     },
     "output_type": "display_data"
    }
   ],
   "source": [
    "x_plot_left = np.linspace(0,X_sorted[15],100)\n",
    "x_plot_mid  = np.linspace(X_sorted[15],X_sorted[28],100)\n",
    "x_plot_right = np.linspace(X_sorted[28],4,100)\n",
    "\n",
    "\n",
    "plt.plot(x_plot_left, np.ones((100,1)) * y_sorted[:15].mean(), \"r\")\n",
    "plt.plot(x_plot_mid, np.ones((100,1)) * y_sorted[15:28].mean(), \"r\")\n",
    "plt.plot(x_plot_right, np.ones((100,1)) * y_sorted[28:].mean(), \"r\")\n",
    "\n",
    "\n",
    "plt.plot(X, y, \"b.\")\n",
    "\n",
    "plt.xlabel(\"$x$\", fontsize=18)\n",
    "plt.ylabel(\"$y$\", rotation=0, fontsize=18)\n",
    "plt.show()"
   ]
  },
  {
   "cell_type": "code",
   "execution_count": 231,
   "metadata": {},
   "outputs": [
    {
     "name": "stdout",
     "output_type": "stream",
     "text": [
      "Cost with 3 nodes: 137.73831463742832\n",
      "Cost with 2 nodes: 173.3932686908971\n",
      "Cost with 1 node: 163.3932686908971\n"
     ]
    }
   ],
   "source": [
    "def get_cost(alpha):\n",
    "    cost_3_nodes = ((X_sorted[:15] - y_sorted[:15])**2).sum() + ((X_sorted[15:28] - y_sorted[15:28])**2).sum() + ((X_sorted[15:28] - y_sorted[15:28])**2).sum() + alpha * 3\n",
    "    cost_2_nodes = ((X_sorted[:28] - y_sorted[:28])**2).sum() + ((X_sorted[28:] - y_sorted[28:])**2).sum() + alpha * 2\n",
    "    cost_1_node  = ((X_sorted - y_sorted)**2).sum() + alpha * 1\n",
    "    \n",
    "    print(\"Cost with 3 nodes: \" + str(cost_3_nodes))\n",
    "    print(\"Cost with 2 nodes: \" + str(cost_2_nodes))\n",
    "    print(\"Cost with 1 node: \" + str(cost_1_node))\n",
    "    \n",
    "get_cost(10)"
   ]
  },
  {
   "cell_type": "markdown",
   "metadata": {},
   "source": [
    "So for $\\alpha=10$ we get that the best tree is the one with a two nodes as it gives the best RSS for it's size. Let's try for a small and large alpha:"
   ]
  },
  {
   "cell_type": "code",
   "execution_count": 234,
   "metadata": {},
   "outputs": [
    {
     "name": "stdout",
     "output_type": "stream",
     "text": [
      "alpha=0\n",
      "Cost with 3 nodes: 107.73831463742832\n",
      "Cost with 2 nodes: 153.3932686908971\n",
      "Cost with 1 node: 153.3932686908971\n",
      "\n",
      "alpha=100\n",
      "Cost with 3 nodes: 407.7383146374283\n",
      "Cost with 2 nodes: 353.3932686908971\n",
      "Cost with 1 node: 253.3932686908971\n"
     ]
    }
   ],
   "source": [
    "print(\"alpha=0\")\n",
    "get_cost(0)\n",
    "print(\"\")\n",
    "print(\"alpha=100\")\n",
    "get_cost(100)"
   ]
  },
  {
   "cell_type": "markdown",
   "metadata": {},
   "source": [
    "Here we can see that for smaller alpha the amount of terminal nodes matter less so the tree with 3 nodes minimises the cost but for large alpha the one with a single node minimises the cost. To find the optimal value for alpha cross validation is generally used."
   ]
  },
  {
   "cell_type": "code",
   "execution_count": null,
   "metadata": {},
   "outputs": [],
   "source": []
  }
 ],
 "metadata": {
  "kernelspec": {
   "display_name": "Python 3",
   "language": "python",
   "name": "python3"
  },
  "language_info": {
   "codemirror_mode": {
    "name": "ipython",
    "version": 3
   },
   "file_extension": ".py",
   "mimetype": "text/x-python",
   "name": "python",
   "nbconvert_exporter": "python",
   "pygments_lexer": "ipython3",
   "version": "3.7.5"
  }
 },
 "nbformat": 4,
 "nbformat_minor": 4
}
