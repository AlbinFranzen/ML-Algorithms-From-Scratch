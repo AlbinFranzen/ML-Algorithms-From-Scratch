{
 "cells": [
  {
   "cell_type": "markdown",
   "metadata": {},
   "source": [
    "# Classification Trees\n",
    "\n",
    "Classification trees are similar to [regression trees](https://github.com/AlbinFranzen/ML-Algorithms-From-Scratch/blob/master/Supervised%20Learning/Regression/Regression%20Trees.ipynb) except that they create decision boundaries where they predict according to the most common class in a certain region. Let's implement this on the following data:"
   ]
  },
  {
   "cell_type": "code",
   "execution_count": 4,
   "metadata": {},
   "outputs": [],
   "source": [
    "#stability\n",
    "import numpy as np\n",
    "np.random.seed(42)\n",
    "\n",
    "# To plot pretty figures\n",
    "%matplotlib inline\n",
    "import matplotlib as mpl\n",
    "import matplotlib.pyplot as plt\n",
    "mpl.rc('axes', labelsize=14)\n",
    "mpl.rc('xtick', labelsize=12)\n",
    "mpl.rc('ytick', labelsize=12)"
   ]
  },
  {
   "cell_type": "code",
   "execution_count": 27,
   "metadata": {},
   "outputs": [],
   "source": [
    "from sklearn import datasets\n",
    "\n",
    "# import some data to play with\n",
    "iris = datasets.load_iris()\n",
    "X = iris.data[:,0]  # we take feature 0\n",
    "f_1 = iris.data[:,3] #we take feature 3\n",
    "X = np.vstack((f_0, f_1))\n",
    "\n",
    "X = X.T\n",
    "y = iris.target"
   ]
  },
  {
   "cell_type": "code",
   "execution_count": 28,
   "metadata": {},
   "outputs": [
    {
     "data": {
      "image/png": "[encoded data removed]",
      "text/plain": [
       "<Figure size 432x288 with 1 Axes>"
      ]
     },
     "metadata": {
      "needs_background": "light"
     },
     "output_type": "display_data"
    }
   ],
   "source": [
    "plt.scatter(X[:50,0],X[:50,1],color=\"r\",alpha=0.3)\n",
    "plt.scatter(X[50:100,0],X[50:100,1],color=\"g\",alpha=0.3)\n",
    "plt.scatter(X[100:150,0],X[100:150,1],color=\"b\",alpha=0.3)\n",
    "plt.show()"
   ]
  },
  {
   "cell_type": "markdown",
   "metadata": {},
   "source": [
    "## Splitting Criterion\n",
    "\n",
    "### Classification Error Rate\n",
    "\n",
    "The simplest way to split the binary decision tree is by attempting to maximise the fraction of correct observations in each terminal node. Where the total error is:\n",
    "\n",
    "$$E = 1-\\sum_{m=1}^{|T|} \\underset{k}{\\text{max}} (p_{mk})$$\n",
    "\n",
    "Let's implement 3 splits below:"
   ]
  },
  {
   "cell_type": "code",
   "execution_count": 73,
   "metadata": {},
   "outputs": [],
   "source": [
    "idx = np.argsort(X[:,0])\n",
    "X_sorted = X[idx]\n",
    "y_sorted = y[idx]"
   ]
  },
  {
   "cell_type": "code",
   "execution_count": 57,
   "metadata": {},
   "outputs": [
    {
     "data": {
      "text/plain": [
       "[1, 49]"
      ]
     },
     "execution_count": 57,
     "metadata": {},
     "output_type": "execute_result"
    }
   ],
   "source": [
    "def minimiseCER(X_vals, y_vals): #input sorted list\n",
    "    lowest_CER     = 1.0\n",
    "    lowest_CER_idx = [0,0]\n",
    "    \n",
    "    for k in range(2): #test each feature\n",
    "        idx = np.argsort(X[:,k])\n",
    "        X_sorted_temp = X[idx]\n",
    "        y_sorted_temp = y[idx]\n",
    "        for i in range(len(X_vals)):\n",
    "            CER_left = 1-np.max(np.bincount(y_sorted_temp[:i+1]))/(i+1)\n",
    "            CER_right = 1-np.max(np.bincount(y_sorted_temp[i:]))/(len(y_sorted_temp)-i)\n",
    "            if (CER_left+CER_right) < lowest_CER:\n",
    "                lowest_CER = CER_left+CER_right\n",
    "                lowest_CER_idx = [k, i]\n",
    "\n",
    "    return lowest_CER_idx\n",
    "    \n",
    "minimiseCER(X_sorted, y_sorted)"
   ]
  },
  {
   "cell_type": "markdown",
   "metadata": {},
   "source": [
    "So we can see that the optimal decision boundary is at the 49th element on the second feature (y axis). Let's plot this:"
   ]
  },
  {
   "cell_type": "code",
   "execution_count": 82,
   "metadata": {},
   "outputs": [],
   "source": [
    "#here we generate the data\n",
    "x1_new = np.linspace(0,2.5,100) \n",
    "x2_new = np.linspace(0,8,100)\n",
    "\n",
    "x1_new_mesh,x2_new_mesh = np.meshgrid(x1_new,x2_new)\n",
    "\n",
    "x1_flat = x1_new_mesh.flatten()\n",
    "x2_flat = x2_new_mesh.flatten()\n",
    "\n",
    "X_new = np.vstack((x1_flat, x2_flat))\n",
    "\n",
    "idx = np.argsort(X[:,1])\n",
    "X_sorted = X[idx]\n",
    "y_sorted = y[idx]\n",
    "\n",
    "colors = ['mistyrose' if x<X_sorted[:,1][49] else 'azure' for x in x1_flat]"
   ]
  },
  {
   "cell_type": "code",
   "execution_count": 83,
   "metadata": {},
   "outputs": [
    {
     "data": {
      "image/png": "[encoded data removed]",
      "text/plain": [
       "<Figure size 432x288 with 1 Axes>"
      ]
     },
     "metadata": {
      "needs_background": "light"
     },
     "output_type": "display_data"
    }
   ],
   "source": [
    "plt.scatter(x2_flat, x1_flat,c=colors)\n",
    "\n",
    "plt.scatter(X[:50,0],X[:50,1],color=\"r\",alpha=0.3)\n",
    "plt.scatter(X[50:100,0],X[50:100,1],color=\"g\",alpha=0.3)\n",
    "plt.scatter(X[100:150,0],X[100:150,1],color=\"b\",alpha=0.3)\n",
    "plt.show()"
   ]
  },
  {
   "cell_type": "markdown",
   "metadata": {},
   "source": [
    "Let's do this again using only the data in top half of the boundary:"
   ]
  },
  {
   "cell_type": "code",
   "execution_count": 84,
   "metadata": {},
   "outputs": [
    {
     "data": {
      "text/plain": [
       "[1, 49]"
      ]
     },
     "execution_count": 84,
     "metadata": {},
     "output_type": "execute_result"
    }
   ],
   "source": [
    "minimiseCER(X_sorted[49:], y_sorted[49:])"
   ]
  },
  {
   "cell_type": "code",
   "execution_count": 91,
   "metadata": {},
   "outputs": [],
   "source": [
    "colors = ['mistyrose' if x<X_sorted[:,1][49] else 'azure' if x>X_sorted[:,1][99] else \"lightyellow\" for x in x1_flat]"
   ]
  },
  {
   "cell_type": "code",
   "execution_count": 92,
   "metadata": {},
   "outputs": [
    {
     "data": {
      "image/png": "[encoded data removed]",
      "text/plain": [
       "<Figure size 432x288 with 1 Axes>"
      ]
     },
     "metadata": {
      "needs_background": "light"
     },
     "output_type": "display_data"
    }
   ],
   "source": [
    "plt.scatter(x2_flat, x1_flat,c=colors)\n",
    "\n",
    "plt.scatter(X[:50,0],X[:50,1],color=\"r\",alpha=0.3)\n",
    "plt.scatter(X[50:100,0],X[50:100,1],color=\"g\",alpha=0.3)\n",
    "plt.scatter(X[100:150,0],X[100:150,1],color=\"b\",alpha=0.3)\n",
    "plt.show()"
   ]
  },
  {
   "cell_type": "markdown",
   "metadata": {},
   "source": [
    "Now we got a nice tree! However there are also different splitting criterion which are more sensitive and efficient:\n",
    "\n",
    "### Gini Impurity\n",
    "\n",
    "Another way to split is by using the *gini impurity* which calculates the variance between the different classes in a node. So if a single class exists in a node then it will have a small gini impurity because the variance between the classes is small:\n",
    "\n",
    "$$G_i = 1- \\sum_{k=1}^{K} p_{ml}^2$$"
   ]
  },
  {
   "cell_type": "code",
   "execution_count": 95,
   "metadata": {},
   "outputs": [
    {
     "data": {
      "text/plain": [
       "[1, 49]"
      ]
     },
     "execution_count": 95,
     "metadata": {},
     "output_type": "execute_result"
    }
   ],
   "source": [
    "def countElement(array):\n",
    "    np.count_nonzero(array == 1)\n",
    "\n",
    "def minimiseGI(X_vals, y_vals): #input sorted list\n",
    "    lowest_GI     = 1.0\n",
    "    lowest_GI_idx = [0,0]\n",
    "    \n",
    "    for k in range(2): #test each feature\n",
    "        idx = np.argsort(X[:,k])\n",
    "        X_sorted_temp = X[idx]\n",
    "        y_sorted_temp = y[idx]\n",
    "        \n",
    "        for i in range(len(X_vals)):\n",
    "            GI_left = 0\n",
    "            GI_right = 0\n",
    "            for j in range(3):\n",
    "                GI_left += (np.count_nonzero(y_sorted_temp[:i+1] == j)/(i+1))**2\n",
    "                GI_right += (np.count_nonzero(y_sorted_temp[i:] == j)/(len(y_sorted_temp)-i))**2\n",
    "            GI_left = 1 - GI_left\n",
    "            GI_right = 1 - GI_right\n",
    "\n",
    "            if (GI_left+GI_right) < lowest_GI:\n",
    "                lowest_GI = GI_left+GI_right\n",
    "                lowest_GI_idx = [k, i]\n",
    "\n",
    "    return lowest_GI_idx\n",
    "    \n",
    "minimiseGI(X_sorted, y_sorted)"
   ]
  },
  {
   "cell_type": "markdown",
   "metadata": {},
   "source": [
    "As we can see we get the same answer as before.\n",
    "\n",
    "### Entropy\n",
    "\n",
    "Another splitting criterion that can be used is *entropy* from information theory which measures how much \"information\" a certain probability contains. The formula is:\n",
    "\n",
    "$$ H_i = -\\sum_{k=1}^{K}p_{ml}\\text{log}_2p_{ml}$$"
   ]
  },
  {
   "cell_type": "code",
   "execution_count": 144,
   "metadata": {},
   "outputs": [
    {
     "data": {
      "text/plain": [
       "[1, 49]"
      ]
     },
     "execution_count": 144,
     "metadata": {},
     "output_type": "execute_result"
    }
   ],
   "source": [
    "def countElement(array):\n",
    "    np.count_nonzero(array == 1)\n",
    "\n",
    "def minimiseHI(X_vals, y_vals): #input sorted list\n",
    "    lowest_HI     = 10\n",
    "    lowest_HI_idx = [0,0]\n",
    "    \n",
    "    for k in range(2): #test each feature\n",
    "        idx = np.argsort(X[:,k])\n",
    "        X_sorted_temp = X[idx]\n",
    "        y_sorted_temp = y[idx]\n",
    "        \n",
    "        for i in range(len(X_vals)):\n",
    "            HI_left = 0\n",
    "            HI_right = 0\n",
    "            for j in range(3):       \n",
    "                if np.count_nonzero(y_sorted_temp[:i+1] == j)/(i+1) > 0:\n",
    "                    HI_left -= (np.count_nonzero(y_sorted_temp[:i+1] == j)/(i+1)) * np.log2(np.count_nonzero(y_sorted_temp[:i+1] == j)/(i+1))\n",
    " \n",
    "                if np.count_nonzero(y_sorted_temp[i:] == j)/(len(y_sorted_temp)-i) > 0:\n",
    "                    HI_right -= (np.count_nonzero(y_sorted_temp[i:] == j)/(len(y_sorted_temp)-i)) * np.log2(np.count_nonzero(y_sorted_temp[i:] == j)/(len(y_sorted_temp)-i))\n",
    "                \n",
    "            if (HI_left+HI_right) < lowest_HI:\n",
    "                lowest_HI = HI_left+HI_right\n",
    "                lowest_HI_idx = [k, i]\n",
    "\n",
    "    return lowest_HI_idx\n",
    "    \n",
    "minimiseHI(X_sorted, y_sorted)"
   ]
  },
  {
   "cell_type": "markdown",
   "metadata": {},
   "source": [
    "### Which criterion to use?\n",
    "\n",
    "Usually CER should be avoided for generating trees and only used for evaluation of a decision tree. Gini is faster than entropy so it can be a good place to start but optimally cross validation should be used on both gini and entropy."
   ]
  },
  {
   "cell_type": "code",
   "execution_count": null,
   "metadata": {},
   "outputs": [],
   "source": []
  }
 ],
 "metadata": {
  "kernelspec": {
   "display_name": "Python 3",
   "language": "python",
   "name": "python3"
  },
  "language_info": {
   "codemirror_mode": {
    "name": "ipython",
    "version": 3
   },
   "file_extension": ".py",
   "mimetype": "text/x-python",
   "name": "python",
   "nbconvert_exporter": "python",
   "pygments_lexer": "ipython3",
   "version": "3.7.5"
  }
 },
 "nbformat": 4,
 "nbformat_minor": 4
}
