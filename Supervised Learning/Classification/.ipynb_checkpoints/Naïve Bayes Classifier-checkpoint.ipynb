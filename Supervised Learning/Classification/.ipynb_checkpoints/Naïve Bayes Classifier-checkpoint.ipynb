{
 "cells": [
  {
   "cell_type": "markdown",
   "metadata": {},
   "source": [
    "# Naïve Bayes Classifier\n",
    "\n",
    "We know from [Bayes Theorem for classification](https://github.com/AlbinFranzen/Machine-Learning-Portfolio/blob/master/ML%20algorithms%20from%20scratch/Supervised%20Learning/Classification/Bayesian%20Classifiers%20with%20Density%20Estimates/LDA%20and%20QDA.ipynb) that:\n",
    "\n",
    "$$Pr(Y=k|X=x)=\\frac{\\pi_k f_k(x)}{\\sum_{l=1}^{K}\\pi_l f_l(x)}$$\n",
    "\n",
    "However Naïve Bayes assumes that for the class K the features i are independant which gives us:\n",
    "\n",
    "$$f_K(X)=\\prod_i^p f_{K,i}(X_i)$$\n",
    "\n",
    "For categorical data this is very easily computed by counting the probability of an instance occuring. If there is data that takes on either 0 or 1 such as if word occurs in a sentence then a Bernoulli distribution can be used. For data that uses frequency then a multinomial distribution can be used. For continuous data a gaussian distribution is recommended:\n",
    ".\n",
    "## Guassian Naïve Bayes\n",
    "\n",
    "For the gaussian naïve bayes we assume that each feature takes the form of a gaussian distribution. By taking the log of the numerator for the Bayes Classifier, inserting the gaussian into the naïve bayes formula, and simplifying by only using the diagonals of the covariance matrix(independant features) we get:\n",
    "\n",
    "$$\\delta_k(x)=-\\frac{1}{2}(x-\\mu)^T \\Sigma^{-1}(x-\\mu)-\\frac{1}{2}\\ln |\\Sigma^{-1}|+\\ln (\\pi_k)$$\n",
    "\n",
    "This is called the log posterior."
   ]
  },
  {
   "cell_type": "code",
   "execution_count": 12,
   "metadata": {},
   "outputs": [],
   "source": [
    "#stability\n",
    "import numpy as np\n",
    "np.random.seed(42)\n",
    "\n",
    "# To plot pretty figures\n",
    "%matplotlib inline\n",
    "import matplotlib as mpl\n",
    "import matplotlib.pyplot as plt\n",
    "mpl.rc('axes', labelsize=14)\n",
    "mpl.rc('xtick', labelsize=12)\n",
    "mpl.rc('ytick', labelsize=12)"
   ]
  },
  {
   "cell_type": "code",
   "execution_count": 13,
   "metadata": {},
   "outputs": [],
   "source": [
    "from sklearn import datasets\n",
    "\n",
    "# import some data to play with\n",
    "iris = datasets.load_iris()\n",
    "f_0 = iris.data[:,2]  # we only take the first two features.\n",
    "f_1 = iris.data[:,3]\n",
    "X = np.vstack((f_0, f_1))\n",
    "\n",
    "X = X.T\n",
    "X = X[:100]\n",
    "X1 = X[:50]\n",
    "X2 = X[50:100]\n",
    "\n",
    "X = X.T\n",
    "y = iris.target"
   ]
  },
  {
   "cell_type": "code",
   "execution_count": 14,
   "metadata": {},
   "outputs": [
    {
     "data": {
      "image/png": "[encoded data removed]",
      "text/plain": [
       "<Figure size 432x288 with 1 Axes>"
      ]
     },
     "metadata": {
      "needs_background": "light"
     },
     "output_type": "display_data"
    }
   ],
   "source": [
    "plt.scatter(X1[:,0],X1[:,1],color=\"r\",alpha=0.3)\n",
    "plt.scatter(X2[:,0],X2[:,1],color=\"g\",alpha=0.3)\n",
    "plt.show()"
   ]
  },
  {
   "cell_type": "code",
   "execution_count": 46,
   "metadata": {},
   "outputs": [
    {
     "data": {
      "text/plain": [
       "array([1, 1, 1, 1, 1, 1, 1, 1, 1, 1, 1, 1, 1, 1, 1, 1, 1, 1, 1, 1, 1, 1,\n",
       "       1, 1, 1, 1, 1, 1, 1, 1, 1, 1, 1, 1, 1, 1, 1, 1, 1, 1, 1, 1, 1, 1,\n",
       "       1, 1, 1, 1, 1, 1, 0, 0, 0, 0, 0, 0, 0, 0, 0, 0, 0, 0, 0, 0, 0, 0,\n",
       "       0, 0, 0, 0, 0, 0, 0, 0, 0, 0, 0, 0, 0, 0, 0, 0, 0, 0, 0, 0, 0, 0,\n",
       "       0, 0, 0, 0, 0, 0, 0, 0, 0, 0, 0, 0])"
      ]
     },
     "execution_count": 46,
     "metadata": {},
     "output_type": "execute_result"
    }
   ],
   "source": [
    "Sigma1 = np.cov(X1.T)\n",
    "Sigma2 = np.cov(X2.T)\n",
    "Mu = np.vstack((X1.mean(0), X2.mean(0))).T\n",
    "pi = np.hstack((len(X1)/len(X.T), len(X2)/len(X.T)))\n",
    "\n",
    "term1 = 0.5*np.array((np.diag((X.T-Mu[:,0]).dot(np.linalg.inv(Sigma1)).dot((X.T-Mu[:,0]).T)),np.diag((X.T-Mu[:,1]).dot(np.linalg.inv(Sigma2)).dot((X.T-Mu[:,1]).T)))).T\n",
    "term2 = -0.5*np.array([np.log(np.linalg.det(Sigma1)),np.log(np.linalg.det(Sigma2))])\n",
    "term3 = np.hstack((len(X1)/len(X.T), len(X2)/len(X.T)))\n",
    "\n",
    "deltas_gda = term1+term2+term3\n",
    "output_gda = deltas_gda.argmax(axis=1)\n",
    "output_gda"
   ]
  },
  {
   "cell_type": "markdown",
   "metadata": {},
   "source": [
    "So far so good. Now let's create a decision boundary:"
   ]
  },
  {
   "cell_type": "code",
   "execution_count": 52,
   "metadata": {},
   "outputs": [],
   "source": [
    "#here we generate the data\n",
    "x1_new = np.linspace(0,6,100) \n",
    "x2_new = np.linspace(0,2,100)\n",
    "\n",
    "x1_new_mesh,x2_new_mesh = np.meshgrid(x1_new,x2_new)\n",
    "\n",
    "x1_flat = x1_new_mesh.flatten()\n",
    "x2_flat = x2_new_mesh.flatten()\n",
    "\n",
    "X = np.vstack((x1_flat, x2_flat))"
   ]
  },
  {
   "cell_type": "code",
   "execution_count": 53,
   "metadata": {},
   "outputs": [],
   "source": [
    "Sigma1 = np.cov(X1.T)\n",
    "Sigma2 = np.cov(X2.T)\n",
    "Mu = np.vstack((X1.mean(0), X2.mean(0))).T\n",
    "pi = np.hstack((len(X1)/len(X.T), len(X2)/len(X.T)))\n",
    "\n",
    "term1 = 0.5*np.array((np.diag((X.T-Mu[:,0]).dot(np.linalg.inv(Sigma1)).dot((X.T-Mu[:,0]).T)),np.diag((X.T-Mu[:,1]).dot(np.linalg.inv(Sigma2)).dot((X.T-Mu[:,1]).T)))).T\n",
    "term2 = -0.5*np.array([np.log(np.linalg.det(Sigma1)),np.log(np.linalg.det(Sigma2))])\n",
    "term3 = np.hstack((len(X1)/len(X.T), len(X2)/len(X.T)))\n",
    "\n",
    "deltas_gda = term1+term2+term3\n",
    "output_gda = deltas_gda.argmax(axis=1)"
   ]
  },
  {
   "cell_type": "code",
   "execution_count": 55,
   "metadata": {},
   "outputs": [
    {
     "data": {
      "image/png": "[encoded data removed]",
      "text/plain": [
       "<Figure size 432x288 with 1 Axes>"
      ]
     },
     "metadata": {
      "needs_background": "light"
     },
     "output_type": "display_data"
    }
   ],
   "source": [
    "colors = ['mistyrose' if x==1 else 'azure' for x in output_gda]\n",
    "\n",
    "plt.scatter(x1_flat,x2_flat,c=colors)\n",
    "\n",
    "plt.scatter(X1[:,0],X1[:,1],color=\"r\",alpha=0.3)\n",
    "plt.scatter(X2[:,0],X2[:,1],color=\"g\",alpha=0.3)\n",
    "plt.show()"
   ]
  },
  {
   "cell_type": "markdown",
   "metadata": {},
   "source": [
    "Great results!"
   ]
  },
  {
   "cell_type": "code",
   "execution_count": null,
   "metadata": {},
   "outputs": [],
   "source": []
  }
 ],
 "metadata": {
  "kernelspec": {
   "display_name": "Python 3",
   "language": "python",
   "name": "python3"
  },
  "language_info": {
   "codemirror_mode": {
    "name": "ipython",
    "version": 3
   },
   "file_extension": ".py",
   "mimetype": "text/x-python",
   "name": "python",
   "nbconvert_exporter": "python",
   "pygments_lexer": "ipython3",
   "version": "3.7.5"
  }
 },
 "nbformat": 4,
 "nbformat_minor": 4
}
