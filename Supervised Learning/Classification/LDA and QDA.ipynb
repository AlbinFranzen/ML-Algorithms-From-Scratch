{
 "cells": [
  {
   "cell_type": "markdown",
   "metadata": {},
   "source": [
    "# Bayes' Theorem for Classification\n",
    "\n",
    "We want classify an observation into one of $K$ classes. We define $\\pi_k$ as the *prior* which is the probability that a random chosen observation comes from the *k*th class. We can also define the *density function* $f_k(x)≡ Pr(X=x|Y=k)$ which is large if there is a high probability of an instance belonging to a class k and small if the probability is small. Bayes theorem states:\n",
    "\n",
    "$$Pr(Y=k|X=x)=\\frac{\\pi_k f_k(x)}{\\sum_{l=1}^{K}\\pi_l f_l(x)}$$\n",
    "\n",
    "It is easy to compute the priors because they are simply the fraction of the *k*th class being in the training set. Computing $f_k(X)$ is more difficult since it requires a guess of the density of the data.\n",
    "\n",
    "Usually the denominator in this expression can be disregarded as we only need to maximise the numerator.\n",
    "\n",
    "## Single Dimensional Classification with predetermined Gaussian Distributions\n",
    "\n",
    "We can assume $f_k(X)$ takes the form of a *Guassian Distribution*:\n",
    "\n",
    "$$f(x) = \\frac{1}{\\sqrt{2\\pi}\\sigma_k}\\exp \\Bigg(-\\frac{1}{2\\sigma_k^2}(x-\\mu_k)^2\\Bigg)$$\n",
    "\n",
    "We will make one more assumption which is that all the classes have the same variance so we replace $\\sigma^2_k$ with $\\sigma^2$. By inserting the distribution into Bayes theorem and taking the natural log of both sides to simplify we get:\n",
    "\n",
    "\n",
    "$$\\delta_k(x)=x\\cdot \\frac{\\mu_k}{\\sigma^2}-\\frac{\\mu_k^2}{2\\sigma^2}+\\ln (\\pi_k)$$\n",
    "\n",
    "Here we can see that the higher the value for delta, the higher the probability of an observation observation belonging to that class. We can apply this formula in a one dimensional example with K=2 where we know the values for the mean and variance. We know $\\pi_1=\\pi_2$ so solving for the x value where the $\\delta_k(x)$ gives each class equal probability is:\n",
    "\n",
    "$$x=\\frac{\\mu_1+\\mu_2}{2}$$"
   ]
  },
  {
   "cell_type": "code",
   "execution_count": 1,
   "metadata": {},
   "outputs": [
    {
     "data": {
      "image/png": "[encoded data removed]",
      "text/plain": [
       "<Figure size 432x288 with 1 Axes>"
      ]
     },
     "metadata": {
      "needs_background": "light"
     },
     "output_type": "display_data"
    }
   ],
   "source": [
    "%matplotlib inline\n",
    "import matplotlib.pyplot as plt\n",
    "import numpy as np\n",
    "import scipy.stats as stats\n",
    "import math\n",
    "\n",
    "mu1 = 1\n",
    "variance1 = 2\n",
    "sigma1 = math.sqrt(variance1)\n",
    "\n",
    "x1 = np.linspace(mu1 - 5*sigma1, mu1 + 5*sigma1, 100)\n",
    "plt.plot(x1, stats.norm.pdf(x1, mu1, sigma1))\n",
    "\n",
    "mu2 = 4\n",
    "variance2 = 2\n",
    "sigma2 = math.sqrt(variance2)\n",
    "\n",
    "x2 = np.linspace(mu2 - 5*sigma2, mu2 + 5*sigma2, 100)\n",
    "plt.plot(x2, stats.norm.pdf(x2, mu2, sigma2))\n",
    "\n",
    "y = np.linspace(0, 0.4)\n",
    "x = [(mu1+mu2)/2 for i in range(50)]\n",
    "\n",
    "plt.plot(x,y,'--',color='black')\n",
    "\n",
    "plt.show()"
   ]
  },
  {
   "cell_type": "markdown",
   "metadata": {},
   "source": [
    "## Linear Discriminant Analysis\n",
    "\n",
    "For multiple variables we can assume $f_k(X)$ takes the form of the *Multivariate Guassian Distribution*:\n",
    "\n",
    "$$f(x) = \\frac{1}{(2\\pi)^{p/2}|\\Sigma_k|^{1/2}}\\exp \\Bigg(-\\frac{1}{2}(x-\\mu_k)^T\\Sigma_k^{-1}(x-\\mu_k)\\Bigg)$$\n",
    "\n",
    "$\\Sigma_k$ is the covariance matrix of each class and and $\\mu_k$ is the mean of each class. We will assume all classes have the same covariance matrix and rewrite the means using a mean vector. This gives us that $\\Sigma=\\text{Cov}(X)$ and $\\mu=\\begin{bmatrix}\\mu_1, \\mu_2...\\mu_k\\end{bmatrix}$. By inserting this distribution into Bayes theorem and taking the natural log of both sides to simplify we get:\n",
    "\n",
    "$$\\delta(X)=X^T \\Sigma^{-1}\\mu-\\frac{1}{2}\\mu^T \\Sigma^{-1}\\mu+\\ln (\\pi)$$\n",
    "\n",
    "Let's apply this to the [LDA](https://github.com/AlbinFranzen/Machine-Learning-Portfolio/blob/master/ML%20algorithms%20from%20scratch/Unsupervised%20Learning/Dimensionality%20Reduction/Linear%20Discriminant%20Analysis.ipynb) data by first importing the iris dataset:"
   ]
  },
  {
   "cell_type": "code",
   "execution_count": 2,
   "metadata": {},
   "outputs": [],
   "source": [
    "#stability\n",
    "import numpy as np\n",
    "np.random.seed(42)\n",
    "\n",
    "# To plot pretty figures\n",
    "%matplotlib inline\n",
    "import matplotlib as mpl\n",
    "import matplotlib.pyplot as plt\n",
    "mpl.rc('axes', labelsize=14)\n",
    "mpl.rc('xtick', labelsize=12)\n",
    "mpl.rc('ytick', labelsize=12)"
   ]
  },
  {
   "cell_type": "code",
   "execution_count": 3,
   "metadata": {},
   "outputs": [],
   "source": [
    "from sklearn import datasets\n",
    "\n",
    "# import some data to play with\n",
    "iris = datasets.load_iris()\n",
    "f_0 = iris.data[:,2]  # we only take the first two features.\n",
    "f_1 = iris.data[:,3]\n",
    "X = np.vstack((f_0, f_1))\n",
    "\n",
    "X = X.T\n",
    "X = X[:100]\n",
    "X1 = X[:50]\n",
    "X2 = X[50:100]\n",
    "\n",
    "X = X.T\n",
    "y = iris.target"
   ]
  },
  {
   "cell_type": "code",
   "execution_count": 4,
   "metadata": {},
   "outputs": [
    {
     "data": {
      "image/png": "[encoded data removed]",
      "text/plain": [
       "<Figure size 432x288 with 1 Axes>"
      ]
     },
     "metadata": {
      "needs_background": "light"
     },
     "output_type": "display_data"
    }
   ],
   "source": [
    "plt.scatter(X1[:,0],X1[:,1],color=\"r\",alpha=0.3)\n",
    "plt.scatter(X2[:,0],X2[:,1],color=\"g\",alpha=0.3)\n",
    "plt.show()"
   ]
  },
  {
   "cell_type": "markdown",
   "metadata": {},
   "source": [
    "Great now let's apply the algorithm:"
   ]
  },
  {
   "cell_type": "code",
   "execution_count": 5,
   "metadata": {},
   "outputs": [
    {
     "data": {
      "text/plain": [
       "array([0, 0, 0, 0, 0, 0, 0, 0, 0, 0, 0, 0, 0, 0, 0, 0, 0, 0, 0, 0, 0, 0,\n",
       "       0, 0, 0, 0, 0, 0, 0, 0, 0, 0, 0, 0, 0, 0, 0, 0, 0, 0, 0, 0, 0, 0,\n",
       "       0, 0, 0, 0, 0, 0, 1, 1, 1, 1, 1, 1, 1, 1, 1, 1, 1, 1, 1, 1, 1, 1,\n",
       "       1, 1, 1, 1, 1, 1, 1, 1, 1, 1, 1, 1, 1, 1, 1, 1, 1, 1, 1, 1, 1, 1,\n",
       "       1, 1, 1, 1, 1, 1, 1, 1, 1, 1, 1, 1])"
      ]
     },
     "execution_count": 5,
     "metadata": {},
     "output_type": "execute_result"
    }
   ],
   "source": [
    "Sigma = np.cov(X)\n",
    "Mu = np.vstack((X1.mean(0), X2.mean(0))).T\n",
    "pi = np.hstack((len(X1)/len(X.T), len(X2)/len(X.T)))\n",
    "#the formula\n",
    "deltas = X.T.dot(np.linalg.inv(Sigma)).dot(Mu)-np.diag(0.5*Mu.T.dot(np.linalg.inv(Sigma)).dot(Mu))+pi\n",
    "deltas.argmax(axis=1)"
   ]
  },
  {
   "cell_type": "markdown",
   "metadata": {},
   "source": [
    "Excellent! We our classifier successfully classified our training data (no surprise there really...). Now let's plot the decision boundary using the same values for $\\mu$ and $\\Sigma$:"
   ]
  },
  {
   "cell_type": "code",
   "execution_count": 6,
   "metadata": {},
   "outputs": [],
   "source": [
    "#here we generate the data\n",
    "x1_new = np.linspace(0,6,100) \n",
    "x2_new = np.linspace(0,2,100)\n",
    "\n",
    "x1_new_mesh,x2_new_mesh = np.meshgrid(x1_new,x2_new)\n",
    "\n",
    "x1_flat = x1_new_mesh.flatten()\n",
    "x2_flat = x2_new_mesh.flatten()\n",
    "\n",
    "X_new = np.vstack((x1_flat, x2_flat))"
   ]
  },
  {
   "cell_type": "code",
   "execution_count": 7,
   "metadata": {},
   "outputs": [],
   "source": [
    "#calculate the argmax of the deltas\n",
    "deltas_new = X_new.T.dot(np.linalg.inv(Sigma)).dot(Mu)-np.diag(0.5*Mu.T.dot(np.linalg.inv(Sigma)).dot(Mu))\n",
    "output = deltas_new.argmax(axis=1)\n",
    "colors = ['mistyrose' if x==0 else 'azure' for x in output]"
   ]
  },
  {
   "cell_type": "code",
   "execution_count": 8,
   "metadata": {},
   "outputs": [
    {
     "data": {
      "image/png": "[encoded data removed]",
      "text/plain": [
       "<Figure size 432x288 with 1 Axes>"
      ]
     },
     "metadata": {
      "needs_background": "light"
     },
     "output_type": "display_data"
    }
   ],
   "source": [
    "plt.scatter(x1_flat,x2_flat,c=colors)\n",
    "\n",
    "plt.scatter(X1[:,0],X1[:,1],color=\"r\",alpha=0.3)\n",
    "plt.scatter(X2[:,0],X2[:,1],color=\"g\",alpha=0.3)\n",
    "plt.show()"
   ]
  },
  {
   "cell_type": "markdown",
   "metadata": {},
   "source": [
    "## Quadratic Discriminant Analysis\n",
    "\n",
    "The QDA is very similar to the LDA however the difference is instead of assuming all classes share a covariance matrix an individual covariance matrix is used for each class. It can be shown that the deltas then become:\n",
    "\n",
    "$$\\delta(X)=-\\frac{1}{2}X^T \\Sigma^{-1}X+X^T\\Sigma^{-1}\\mu -\\frac{1}{2}\\mu^T \\Sigma^{-1}\\mu -\\frac{1}{2}\\ln |\\Sigma^{-1}|+\\ln (\\pi)$$\n",
    "\n",
    "Now let's implement it:"
   ]
  },
  {
   "cell_type": "code",
   "execution_count": 15,
   "metadata": {},
   "outputs": [],
   "source": [
    "Sigma1 = np.cov(X1.T)\n",
    "Sigma2 = np.cov(X2.T)\n",
    "Mu = np.vstack((X1.mean(0), X2.mean(0))).T\n",
    "pi = np.hstack((len(X1)/len(X.T), len(X2)/len(X.T)))\n",
    "\n",
    "term1 = -0.5*np.vstack((np.diag(X.T.dot(np.linalg.inv(Sigma1)).dot(X)),np.diag(X.T.dot(np.linalg.inv(Sigma2)).dot(X)))).T\n",
    "term2 = np.vstack((X.T.dot(np.linalg.inv(Sigma1)).dot(X1.mean(0)),X.T.dot(np.linalg.inv(Sigma2)).dot(X2.mean(0)))).T\n",
    "term3 = 0.5*np.array((Mu.T.dot(np.linalg.inv(Sigma1)).dot(Mu)[0][0],Mu.T.dot(np.linalg.inv(Sigma2)).dot(Mu)[1][1]))\n",
    "term4 = -0.5*np.array([np.log(np.linalg.det(Sigma1)),np.log(np.linalg.det(Sigma2))])\n",
    "term5 = np.hstack((len(X1)/len(X.T), len(X2)/len(X.T)))\n",
    "\n",
    "deltas_qda = term1+term2+term3+term4+term5\n",
    "output_qda = deltas_qda.argmax(axis=1)"
   ]
  },
  {
   "cell_type": "markdown",
   "metadata": {},
   "source": [
    "Let's use the same means and covariances to predict new generated data:"
   ]
  },
  {
   "cell_type": "code",
   "execution_count": 13,
   "metadata": {},
   "outputs": [],
   "source": [
    "#here we generate the data\n",
    "x1_new = np.linspace(0,6,200) \n",
    "x2_new = np.linspace(0,2,200)\n",
    "\n",
    "x1_new_mesh,x2_new_mesh = np.meshgrid(x1_new,x2_new)\n",
    "\n",
    "x1_flat = x1_new_mesh.flatten()\n",
    "x2_flat = x2_new_mesh.flatten()\n",
    "\n",
    "X = np.vstack((x1_flat, x2_flat))"
   ]
  },
  {
   "cell_type": "code",
   "execution_count": 14,
   "metadata": {},
   "outputs": [],
   "source": [
    "term1 = -0.5*np.vstack((np.diag(X.T.dot(np.linalg.inv(Sigma1)).dot(X)),np.diag(X.T.dot(np.linalg.inv(Sigma2)).dot(X)))).T\n",
    "term2 = np.vstack((X.T.dot(np.linalg.inv(Sigma1)).dot(X1.mean(0)),X.T.dot(np.linalg.inv(Sigma2)).dot(X2.mean(0)))).T\n",
    "term3 = 0.5*np.array((Mu.T.dot(np.linalg.inv(Sigma1)).dot(Mu)[0][0],Mu.T.dot(np.linalg.inv(Sigma2)).dot(Mu)[1][1]))\n",
    "term4 = -0.5*np.array([np.log(np.linalg.det(Sigma1)),np.log(np.linalg.det(Sigma2))])\n",
    "term5 = np.hstack((len(X1)/len(X.T), len(X2)/len(X.T)))\n",
    "\n",
    "deltas_qda = term1+term2+term3+term4+term5\n",
    "output_qda = deltas_qda.argmax(axis=1)"
   ]
  },
  {
   "cell_type": "code",
   "execution_count": 15,
   "metadata": {},
   "outputs": [
    {
     "data": {
      "image/png": "[encoded data removed]",
      "text/plain": [
       "<Figure size 432x288 with 1 Axes>"
      ]
     },
     "metadata": {
      "needs_background": "light"
     },
     "output_type": "display_data"
    }
   ],
   "source": [
    "colors = ['mistyrose' if x==0 else 'azure' for x in output_qda]\n",
    "\n",
    "plt.scatter(x1_flat,x2_flat,c=colors)\n",
    "\n",
    "plt.scatter(X1[:,0],X1[:,1],color=\"r\",alpha=0.3)\n",
    "plt.scatter(X2[:,0],X2[:,1],color=\"g\",alpha=0.3)\n",
    "plt.show()"
   ]
  },
  {
   "cell_type": "markdown",
   "metadata": {},
   "source": [
    "Looks good!"
   ]
  },
  {
   "cell_type": "code",
   "execution_count": null,
   "metadata": {},
   "outputs": [],
   "source": []
  }
 ],
 "metadata": {
  "kernelspec": {
   "display_name": "Python 3",
   "language": "python",
   "name": "python3"
  },
  "language_info": {
   "codemirror_mode": {
    "name": "ipython",
    "version": 3
   },
   "file_extension": ".py",
   "mimetype": "text/x-python",
   "name": "python",
   "nbconvert_exporter": "python",
   "pygments_lexer": "ipython3",
   "version": "3.7.5"
  }
 },
 "nbformat": 4,
 "nbformat_minor": 4
}
