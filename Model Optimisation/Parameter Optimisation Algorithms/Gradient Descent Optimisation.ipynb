{
 "cells": [
  {
   "cell_type": "markdown",
   "metadata": {},
   "source": [
    "# Gradient Descent Optimisation\n",
    "\n",
    "In this notebook we will be looking optimisation techniques that improve upon gradient descent which takes the following form: \n",
    "\n",
    "$$\\theta_{n+1}=\\theta-\\eta \\nabla_{\\theta}\\text{MSE}(\\theta)$$\n",
    "\n",
    "Where $\\nabla_{\\theta}\\text{MSE}(\\theta)$ is: \n",
    "\n",
    "$$\\nabla_{\\theta}\\text{MSE}(\\theta)=\\frac 2 m X^T(X\\theta-y)$$\n",
    "\n",
    "## Momentum\n",
    "\n",
    "To improve upon this algorithm momentum takes into account the weights from the previous iteration to remember the \"momentum\" of the descent: \n",
    "\n",
    "$$ \\Delta \\theta = \\alpha \\Delta \\theta - \\eta \\nabla_{\\theta}\\text{MSE}(\\theta)$$\n",
    "\n",
    "$$ \\theta = \\theta + \\Delta \\theta$$\n",
    "\n",
    "We implement it below using the gradient descent data: "
   ]
  },
  {
   "cell_type": "code",
   "execution_count": 17,
   "metadata": {},
   "outputs": [],
   "source": [
    "%matplotlib inline\n",
    "import matplotlib.pyplot as plt\n",
    "import numpy as np\n",
    "\n",
    "np.random.seed(42)"
   ]
  },
  {
   "cell_type": "code",
   "execution_count": 18,
   "metadata": {},
   "outputs": [],
   "source": [
    "X = 2 * np.random.rand(100,1)\n",
    "y = 4 + 3 * X + np.random.randn(100,1)"
   ]
  },
  {
   "cell_type": "code",
   "execution_count": 19,
   "metadata": {},
   "outputs": [
    {
     "data": {
      "image/png": "[encoded data removed]",
      "text/plain": [
       "<Figure size 432x288 with 1 Axes>"
      ]
     },
     "metadata": {
      "needs_background": "light"
     },
     "output_type": "display_data"
    }
   ],
   "source": [
    "plt.plot(X, y, \"b.\")\n",
    "plt.xlabel(\"$x$\", fontsize=18)\n",
    "plt.ylabel(\"$y$\", rotation=0, fontsize=18)\n",
    "plt.axis([0, 2, 0, 15])\n",
    "plt.show()"
   ]
  },
  {
   "cell_type": "code",
   "execution_count": 20,
   "metadata": {},
   "outputs": [
    {
     "data": {
      "text/plain": [
       "array([[4.21509616],\n",
       "       [2.77011339]])"
      ]
     },
     "execution_count": 20,
     "metadata": {},
     "output_type": "execute_result"
    }
   ],
   "source": [
    "eta = 0.1 \n",
    "alpha = 0.1\n",
    "n_iterations = 1000 \n",
    "m = 100\n",
    "delta_theta = np.zeros((2,1))\n",
    "\n",
    "X_b = np.c_[ np.ones(( 100, 1)), X] # add bias vector of 1s\n",
    "\n",
    "thetas = np.random.randn(2,1) #random initialisation\n",
    "for iteration in range(n_iterations):\n",
    "    gradients = 2/m * X_b.T.dot(X_b.dot(thetas) - y)\n",
    "    delta_theta = alpha * delta_theta - eta * gradients\n",
    "    thetas += delta_theta\n",
    "thetas"
   ]
  },
  {
   "cell_type": "markdown",
   "metadata": {},
   "source": [
    "And we get almost the same as the line $y=4+3x$."
   ]
  },
  {
   "cell_type": "markdown",
   "metadata": {},
   "source": [
    "## AdaGrad\n",
    "\n",
    "AdaGrad works by updating each parameter iteratively with a per-parameter learning rate however it still has the global learning rate $\\eta$. AdaGrad depends on the matrix $G$ which is the outer-product matrix: \n",
    "\n",
    "$$G = \\sum_{\\tau=1}^{t} g_\\tau g_\\tau^T$$\n",
    "\n",
    "Where $g_\\tau$ is the gradient at iteration $\\tau$. The formula for updating the weights then becomes:\n",
    "\n",
    "$$\\theta_{n+1} = \\theta - \\eta \\text{Diag}(G)^{-\\frac 1 2}\\odot g$$"
   ]
  },
  {
   "cell_type": "code",
   "execution_count": 61,
   "metadata": {},
   "outputs": [
    {
     "data": {
      "text/plain": [
       "array([[4.21500613],\n",
       "       [2.7701933 ]])"
      ]
     },
     "execution_count": 61,
     "metadata": {},
     "output_type": "execute_result"
    }
   ],
   "source": [
    "eta = 0.2\n",
    "n_iterations = 10000 \n",
    "m = 100\n",
    "G = np.zeros((2,2))\n",
    "\n",
    "X_b = np.c_[ np.ones(( 100, 1)), X] # add bias vector of 1s\n",
    "\n",
    "thetas = np.random.randn(2,1) #random initialisation\n",
    "for iteration in range(n_iterations):\n",
    "    gradients = 2/m * X_b.T.dot(X_b.dot(thetas) - y)\n",
    "    G += gradients.dot(gradients.transpose())\n",
    "    thetas -= np.multiply(eta * np.power(G.diagonal().reshape((2,1)), -1/2), gradients)\n",
    "thetas"
   ]
  },
  {
   "cell_type": "markdown",
   "metadata": {},
   "source": [
    "## RMSprop\n",
    "\n",
    "For RMSProp different learning rates are used for each parameter. The formula is as follows:\n",
    "\n",
    "$$ v_{n+1} = \\gamma v + (1-\\gamma)(\\nabla_{\\theta}\\text{MSE}(\\theta))^2$$\n",
    "\n",
    "$$ \\theta_{n+1}=\\theta-\\frac{\\eta}{\\sqrt{v}}\\nabla_{\\theta}\\text{MSE}(\\theta)$$"
   ]
  },
  {
   "cell_type": "code",
   "execution_count": 30,
   "metadata": {},
   "outputs": [
    {
     "data": {
      "text/plain": [
       "array([[4.21559616],\n",
       "       [2.77061339]])"
      ]
     },
     "execution_count": 30,
     "metadata": {},
     "output_type": "execute_result"
    }
   ],
   "source": [
    "eta = 0.001\n",
    "n_iterations = 10000\n",
    "m = 100\n",
    "gamma = 0.1\n",
    "v = np.zeros((2,1))\n",
    "\n",
    "X_b = np.c_[ np.ones(( 100, 1)), X] # add bias vector of 1s\n",
    "\n",
    "thetas = np.random.randn(2,1) #random initialisation\n",
    "for iteration in range(n_iterations):\n",
    "    gradients = 2/m * X_b.T.dot(X_b.dot(thetas) - y)\n",
    "    v = gamma * v + (1-gamma) * np.power(gradients, 2)\n",
    "    thetas -= eta/np.power(v, 1/2)*gradients\n",
    "thetas"
   ]
  },
  {
   "cell_type": "markdown",
   "metadata": {},
   "source": [
    "## Adam\n",
    "\n",
    "Finally the most commonly used and arguably best optimiser is adam. Adam is similar to RMSprop but it also takes into account the second moments of the gradient which produces the following formulas:\n",
    "\n",
    "$$m_{t+1} = \\beta_1 m + (1-\\beta_1) \\nabla_{\\theta}\\text{MSE}(\\theta)$$ \n",
    "\n",
    "$$v_{t+1} = \\beta_2 v + (1-\\beta_2) (\\nabla_{\\theta}\\text{MSE}(\\theta))^2$$\n",
    "\n",
    "$$\\hat m_{t+1} = \\frac{m_{t+1}}{1-\\beta_1}$$\n",
    "\n",
    "$$\\hat v_{t+1} = \\frac{m_{t+1}}{1-\\beta_2}$$\n",
    "\n",
    "$$\\theta = \\theta - \\frac{\\eta \\hat m_{t+1}}{\\epsilon + \\sqrt{\\hat v_{t+1}}}$$\n",
    "\n",
    "Where epsilon is a small value to prevent division by 0 and beta is the forgetting factor."
   ]
  },
  {
   "cell_type": "code",
   "execution_count": 38,
   "metadata": {},
   "outputs": [
    {
     "data": {
      "text/plain": [
       "array([[4.21509616],\n",
       "       [2.77011339]])"
      ]
     },
     "execution_count": 38,
     "metadata": {},
     "output_type": "execute_result"
    }
   ],
   "source": [
    "eta = 0.1\n",
    "beta1 = 0.9\n",
    "beta2 = 0.999\n",
    "epsilon = 10 ** -8\n",
    "n_iterations = 1000\n",
    "n = 100\n",
    "m = np.zeros((2,1))\n",
    "v = np.zeros((2,1))\n",
    "\n",
    "X_b = np.c_[ np.ones(( 100, 1)), X] # add bias vector of 1s\n",
    "\n",
    "thetas = np.random.randn(2,1) #random initialisation\n",
    "for iteration in range(n_iterations):\n",
    "    gradients = 2/n * X_b.T.dot(X_b.dot(thetas) - y)\n",
    "    \n",
    "    m = beta1 * m + (1-beta1) * gradients\n",
    "    v = beta2 * v + (1-beta2) * np.power(gradients, 2)\n",
    "    m_hat = m/(1-beta1)\n",
    "    v_hat = m/(1-beta1)\n",
    "    \n",
    "    thetas -= eta*m_hat/(epsilon+np.power(v, 1/2))\n",
    "thetas"
   ]
  }
 ],
 "metadata": {
  "kernelspec": {
   "display_name": "Python 3",
   "language": "python",
   "name": "python3"
  },
  "language_info": {
   "codemirror_mode": {
    "name": "ipython",
    "version": 3
   },
   "file_extension": ".py",
   "mimetype": "text/x-python",
   "name": "python",
   "nbconvert_exporter": "python",
   "pygments_lexer": "ipython3",
   "version": "3.7.5"
  }
 },
 "nbformat": 4,
 "nbformat_minor": 4
}
