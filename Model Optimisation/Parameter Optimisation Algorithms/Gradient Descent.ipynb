{
 "cells": [
  {
   "cell_type": "markdown",
   "metadata": {},
   "source": [
    "# Gradient Descent\n",
    "\n",
    "Gradient descent is an iterative optimisation algorithm to find optimal parameters to a differentiable cost function. The algorithm is based around first guessing some parameters and afterwards adjusting the guess by a learning step $\\eta$ multiplied gradient of the cost function. \n",
    "\n",
    "The data used for this example will be the same as for [Simple Linear Regression](https://github.com/AlbinFranzen/ML-Algorithms-From-Scratch/blob/main/Supervised%20Learning/Regression/Simple%20Linear%20Regression.ipynb):"
   ]
  },
  {
   "cell_type": "code",
   "execution_count": 1,
   "metadata": {},
   "outputs": [],
   "source": [
    "%matplotlib inline\n",
    "import matplotlib.pyplot as plt\n",
    "import numpy as np\n",
    "\n",
    "np.random.seed(42)"
   ]
  },
  {
   "cell_type": "code",
   "execution_count": 2,
   "metadata": {},
   "outputs": [],
   "source": [
    "X = 2 * np.random.rand(100,1)\n",
    "y = 4 + 3 * X + np.random.randn(100,1)"
   ]
  },
  {
   "cell_type": "code",
   "execution_count": 3,
   "metadata": {},
   "outputs": [
    {
     "data": {
      "image/png": "[encoded data removed]",
      "text/plain": [
       "<Figure size 432x288 with 1 Axes>"
      ]
     },
     "metadata": {
      "needs_background": "light"
     },
     "output_type": "display_data"
    }
   ],
   "source": [
    "plt.plot(X, y, \"b.\")\n",
    "plt.xlabel(\"$x$\", fontsize=18)\n",
    "plt.ylabel(\"$y$\", rotation=0, fontsize=18)\n",
    "plt.axis([0, 2, 0, 15])\n",
    "plt.show()"
   ]
  },
  {
   "cell_type": "markdown",
   "metadata": {},
   "source": [
    "## Batch Gradient Descent\n",
    "\n",
    "For batch gradient descent the gradient for each instance is computed with regard to each parameter $\\theta$. We will be using [MSE]() as our metric and it's partial derivative with respect to each parameter is:\n",
    "\n",
    "$$\\frac{\\partial}{\\partial \\theta_j}\\text{MSE}(\\theta)=\\frac 2 m \\sum_{i=1}^m(\\theta^Tx^{(i)}-y^{(i)})x_j^{(i)}$$\n",
    "\n",
    "Or in matrix form:\n",
    "\n",
    "$$\\nabla_{\\theta}\\text{MSE}(\\theta)=\\frac 2 m X^T(X\\theta-y)$$\n",
    "\n",
    "Finally to adjust our parameters we add a learning rate to the gradient:\n",
    "\n",
    "$$\\theta_{n+1}=\\theta-\\eta \\nabla_{\\theta}\\text{MSE}(\\theta)$$\n",
    "\n",
    "Now we can add all of this together in code below:"
   ]
  },
  {
   "cell_type": "code",
   "execution_count": 4,
   "metadata": {},
   "outputs": [
    {
     "data": {
      "text/plain": [
       "array([[4.21509616],\n",
       "       [2.77011339]])"
      ]
     },
     "execution_count": 4,
     "metadata": {},
     "output_type": "execute_result"
    }
   ],
   "source": [
    "eta = 0.1 \n",
    "n_iterations = 1000 \n",
    "m = 100\n",
    "\n",
    "X_b = np.c_[ np.ones(( 100, 1)), X] # add bias vector of 1s\n",
    "\n",
    "thetas = np.random.randn(2,1) #random initialisation\n",
    "for iteration in range(n_iterations):\n",
    "    gradients = 2/m * X_b.T.dot(X_b.dot(thetas) - y)\n",
    "    thetas -= eta * gradients\n",
    "thetas"
   ]
  },
  {
   "cell_type": "code",
   "execution_count": 5,
   "metadata": {},
   "outputs": [
    {
     "data": {
      "image/png": "[encoded data removed]",
      "text/plain": [
       "<Figure size 432x288 with 1 Axes>"
      ]
     },
     "metadata": {
      "needs_background": "light"
     },
     "output_type": "display_data"
    }
   ],
   "source": [
    "x_new = np.linspace(0,2,100) #generate values for x to plot the line\n",
    "x_new_b = np.c_[ np.ones(( 100, 1)), x_new] #add bias vector of 1s \n",
    "y_pred = x_new_b.dot(thetas) #create predictions\n",
    "\n",
    "plt.plot(x_new, y_pred, '-r')\n",
    "plt.plot(X, y, \"b.\")\n",
    "plt.xlabel(\"$x$\", fontsize=18)\n",
    "plt.ylabel(\"$y$\", rotation=0, fontsize=18)\n",
    "plt.axis([0, 2, 0, 15])\n",
    "plt.show()"
   ]
  },
  {
   "cell_type": "markdown",
   "metadata": {},
   "source": [
    "As we can see we got a pretty good fit! \n",
    "\n",
    "## Stochastic Gradient Descent\n",
    "\n",
    "The problem with batch gradient descent is that it requires every instance in the training set for each iteration. Stochastic gradient descent will instead only iterate on a single randomised instance at a time. Additionally for SGD we want to reduce the learning rate each iteration by a learning schedule so that the parameters converge and don't randomly jump around. "
   ]
  },
  {
   "cell_type": "code",
   "execution_count": 8,
   "metadata": {},
   "outputs": [
    {
     "data": {
      "text/plain": [
       "array([[4.21076011],\n",
       "       [2.74856079]])"
      ]
     },
     "execution_count": 8,
     "metadata": {},
     "output_type": "execute_result"
    }
   ],
   "source": [
    "np.random.seed(42)\n",
    "n_epochs = 50\n",
    "t0, t1 = 5, 50 #learning schedule parameter\n",
    "\n",
    "def learning_schedule(t):\n",
    "    return t0/(t+t1)\n",
    "\n",
    "thetas = np.random.randn(2,1) #random initialisation\n",
    "\n",
    "for epoch in range(n_epochs):\n",
    "    for i in range(m):\n",
    "        random_index = np.random.randint(m)\n",
    "        x_i = X_b[random_index:random_index+1]\n",
    "        y_i = y[random_index:random_index+1]\n",
    "        gradients = 2 * x_i.T.dot(x_i.dot(thetas) - y_i)\n",
    "        eta = learning_schedule(epoch*m + i)\n",
    "        thetas -= eta * gradients\n",
    "thetas"
   ]
  },
  {
   "cell_type": "markdown",
   "metadata": {},
   "source": [
    "As we can see we got similar results at much less computing power! \n",
    "\n",
    "## Mini-batch Gradient Descent\n",
    "\n",
    "The middle ground for batch gradient descent and stochastic gradient descent is mini-batch gradient descent when random sets of instances are chosen instead of random single instances. "
   ]
  },
  {
   "cell_type": "code",
   "execution_count": 17,
   "metadata": {},
   "outputs": [
    {
     "data": {
      "text/plain": [
       "array([[4.27264463],\n",
       "       [2.73459412]])"
      ]
     },
     "execution_count": 17,
     "metadata": {},
     "output_type": "execute_result"
    }
   ],
   "source": [
    "np.random.seed(42)\n",
    "n_epochs = 50\n",
    "t0, t1 = 5, 50 #learning schedule parameter\n",
    "batch_size = 5\n",
    "\n",
    "def learning_schedule(t):\n",
    "    return t0/(t+t1)\n",
    "\n",
    "thetas = np.random.randn(2,1) #random initialisation\n",
    "\n",
    "for epoch in range(n_epochs):\n",
    "    for i in range(m):\n",
    "        random_index = np.random.randint(m)\n",
    "        x_n = X_b[random_index:random_index+1]\n",
    "        y_n = y[random_index:random_index+1]\n",
    "        for k in range(batch_size):\n",
    "            rand = np.random.randint(m)\n",
    "            np.c_[x_n,X_b[rand:rand+1]]\n",
    "            np.c_[y_n,y[rand:rand+1]]\n",
    "        gradients = 2 * x_n.T.dot(x_n.dot(thetas) - y_n)\n",
    "        eta = learning_schedule(epoch*m + i)\n",
    "        thetas -= eta * gradients\n",
    "thetas"
   ]
  },
  {
   "cell_type": "code",
   "execution_count": null,
   "metadata": {},
   "outputs": [],
   "source": []
  }
 ],
 "metadata": {
  "kernelspec": {
   "display_name": "Python 3",
   "language": "python",
   "name": "python3"
  },
  "language_info": {
   "codemirror_mode": {
    "name": "ipython",
    "version": 3
   },
   "file_extension": ".py",
   "mimetype": "text/x-python",
   "name": "python",
   "nbconvert_exporter": "python",
   "pygments_lexer": "ipython3",
   "version": "3.7.5"
  }
 },
 "nbformat": 4,
 "nbformat_minor": 4
}
