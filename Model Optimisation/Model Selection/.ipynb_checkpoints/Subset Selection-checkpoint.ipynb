{
 "cells": [
  {
   "cell_type": "markdown",
   "metadata": {},
   "source": [
    "# Subset Selection\n",
    "\n",
    "Subset selection is the method of determining the best subset of features from a set of all features. \n",
    "\n",
    "## Best Subset Selection\n",
    "\n",
    "Best subset selection is the process of assessing every possible subset of features ($2^p$ total) using combinatorics and selecting the best model according to a metric such as RSME or accuracy. \n",
    "\n",
    "Below best subset selection is used on the iris dataset with 3 features."
   ]
  },
  {
   "cell_type": "code",
   "execution_count": 52,
   "metadata": {},
   "outputs": [],
   "source": [
    "import numpy as np\n",
    "import matplotlib.pyplot as plt\n",
    "%matplotlib inline\n",
    "np.random.seed(42)"
   ]
  },
  {
   "cell_type": "code",
   "execution_count": 2,
   "metadata": {},
   "outputs": [],
   "source": [
    "from sklearn import datasets\n",
    "\n",
    "iris = datasets.load_iris()\n",
    "X = iris.data\n",
    "y = iris.target"
   ]
  },
  {
   "cell_type": "code",
   "execution_count": 46,
   "metadata": {
    "scrolled": true
   },
   "outputs": [
    {
     "name": "stdout",
     "output_type": "stream",
     "text": [
      "1: 0.5599999999999999\n",
      "2: 0.5533333333333333\n",
      "3: 0.8066666666666666\n",
      "4: 0.8800000000000001\n",
      "12: 0.6533333333333332\n",
      "13: 0.7266666666666667\n",
      "14: 0.6933333333333334\n",
      "23: 0.8133333333333332\n",
      "24: 0.9133333333333333\n",
      "34: 0.7266666666666667\n",
      "123: 0.8\n",
      "124: 0.82\n",
      "134: 0.8400000000000001\n",
      "234: 0.8333333333333333\n",
      "1234: 0.82\n"
     ]
    }
   ],
   "source": [
    "from sklearn.linear_model import SGDClassifier\n",
    "from sklearn.model_selection import cross_val_score\n",
    "\n",
    "sgd_clf = SGDClassifier(random_state=42)\n",
    "\n",
    "for k in range(1,len(X)+1):\n",
    "    temp_X = np.array(list(iter.combinations(X.T, k)))\n",
    "    combs = (list(iter.combinations(\"1234\", k)))\n",
    "    for m in range(len(temp_X)):\n",
    "        print(\"\".join(combs[m]) + \": \" + str(cross_val_score(sgd_clf, temp_X[m].T, y, cv=10).mean()))"
   ]
  },
  {
   "cell_type": "code",
   "execution_count": 54,
   "metadata": {},
   "outputs": [],
   "source": [
    "new_X = np.vstack((iris.data[:,1], iris.data[:,3])).T\n",
    "X1_good = new_X[:50]\n",
    "X2_good = new_X[50:100]\n",
    "X3_good = new_X[100:150]\n",
    "\n",
    "new_X = np.vstack((iris.data[:,0], iris.data[:,1])).T\n",
    "X1_bad = new_X[:50]\n",
    "X2_bad = new_X[50:100]\n",
    "X3_bad = new_X[100:150]"
   ]
  },
  {
   "cell_type": "code",
   "execution_count": 55,
   "metadata": {},
   "outputs": [
    {
     "data": {
      "image/png": "[encoded data removed]",
      "text/plain": [
       "<Figure size 720x360 with 2 Axes>"
      ]
     },
     "metadata": {
      "needs_background": "light"
     },
     "output_type": "display_data"
    }
   ],
   "source": [
    "fig, axes = plt.subplots(nrows=1, ncols=2, figsize=(10, 5))\n",
    "\n",
    "axes[0].scatter(X1_good[:,0],X1_good[:,1],color=\"r\",alpha=0.3)\n",
    "axes[0].scatter(X2_good[:,0],X2_good[:,1],color=\"g\",alpha=0.3)\n",
    "axes[0].scatter(X3_good[:,0],X3_good[:,1],color=\"b\",alpha=0.3)\n",
    "axes[0].set_title(\"Feature 2 and 4\")\n",
    "\n",
    "axes[1].scatter(X1_bad[:,0],X1_bad[:,1],color=\"r\",alpha=0.3)\n",
    "axes[1].scatter(X2_bad[:,0],X2_bad[:,1],color=\"g\",alpha=0.3)\n",
    "axes[1].scatter(X3_bad[:,0],X3_bad[:,1],color=\"b\",alpha=0.3)\n",
    "axes[1].set_title(\"Feature 1 and 2\")\n",
    "\n",
    "fig.tight_layout()\n",
    "plt.show()"
   ]
  },
  {
   "cell_type": "markdown",
   "metadata": {},
   "source": [
    "As we can see above we get the best cross validated accuracy when using features 2 and 4 together and that when using a single feature, feature 4 seems to correlate the most with the output (the y axis of left graph separates the data pretty well). However we also see that feature 3 correlates 90% with the output so maybe a nonlinear model can incorporate this better.\n",
    "\n",
    "The problem with best subset selection is that it is very computationally heavy (with only 10 features it requires $2^{10}=1024$ models!) so an alternative method of stepwise selection can be used instead.\n",
    "\n",
    "## Forward Subset Selection\n",
    "\n",
    "For forward subset selection initially no features are contained within the subset. Afterwards each feature gets tested when added to the subset and the one which increases the performance most gets to remain. This is repeated until the subset is as large as the original set. So for iris dataset first the 4th feature is chosen since it has the highest accuracy, then the 2nd feature is added, then 3rd and finally 1st. The best of these is of course 42 the meaning of life. \n",
    "## Backwards Subset Selection\n",
    "\n",
    "Backwards subset selection is the reverse to forwards subset selection by first containing all features in the subset and then removing all but one each iteration. In the iris it would be 1234, 134, 13, 3 with the best result being 134. "
   ]
  },
  {
   "cell_type": "code",
   "execution_count": null,
   "metadata": {},
   "outputs": [],
   "source": []
  }
 ],
 "metadata": {
  "kernelspec": {
   "display_name": "Python 3",
   "language": "python",
   "name": "python3"
  },
  "language_info": {
   "codemirror_mode": {
    "name": "ipython",
    "version": 3
   },
   "file_extension": ".py",
   "mimetype": "text/x-python",
   "name": "python",
   "nbconvert_exporter": "python",
   "pygments_lexer": "ipython3",
   "version": "3.7.5"
  }
 },
 "nbformat": 4,
 "nbformat_minor": 4
}
