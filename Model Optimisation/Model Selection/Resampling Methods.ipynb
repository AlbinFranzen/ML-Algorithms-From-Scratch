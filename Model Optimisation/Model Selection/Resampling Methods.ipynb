{
 "cells": [
  {
   "cell_type": "markdown",
   "metadata": {},
   "source": [
    "# Resampling Methods\n",
    "\n",
    "Many times when using models in machine learning there isn't enough test data to accurately predict the test error. To fix this issue resampling methods are used to predict the test error from the training error.\n",
    "\n",
    "## Validation Set\n",
    "\n",
    "The easiest way of doing this is with a *validation set* or *holdout set* where we randomly select a set of instances to exclude from training. A model is then trained on the remaining instances and evaluated on the validation set. Afterwards the best model is trained on the entire training data."
   ]
  },
  {
   "cell_type": "code",
   "execution_count": null,
   "metadata": {},
   "outputs": [],
   "source": [
    "import sklearn\n",
    "import numpy as np\n",
    "\n",
    "np.random.seed(42)\n",
    "\n",
    "# To plot pretty figures\n",
    "%matplotlib inline\n",
    "import matplotlib as mpl\n",
    "import matplotlib.pyplot as plt\n",
    "mpl.rc('axes', labelsize=14)\n",
    "mpl.rc('xtick', labelsize=12)\n",
    "mpl.rc('ytick', labelsize=12)"
   ]
  },
  {
   "cell_type": "code",
   "execution_count": null,
   "metadata": {},
   "outputs": [],
   "source": [
    "from sklearn.datasets import fetch_openml\n",
    "mnist = fetch_openml('mnist_784', version=1)"
   ]
  },
  {
   "cell_type": "code",
   "execution_count": 54,
   "metadata": {},
   "outputs": [],
   "source": [
    "X, y = mnist[\"data\"], mnist[\"target\"]\n",
    "y = y.astype(np.uint8)\n",
    "X_train, X_test, y_train, y_test = X[:60000], X[60000:], y[:60000], y[60000:]"
   ]
  },
  {
   "cell_type": "markdown",
   "metadata": {},
   "source": [
    "Now lets implement the validation test for 10% of the training data:"
   ]
  },
  {
   "cell_type": "code",
   "execution_count": 36,
   "metadata": {},
   "outputs": [],
   "source": [
    "indices = np.random.permutation(X_train.shape[0])\n",
    "training_idx, test_idx = indices[:6000], indices[6000:]\n",
    "X_train_new, X_val = X_train[training_idx,:], X_train[test_idx,:]\n",
    "y_train_new, y_val = np.ravel(y_train.reshape(-1,1)[training_idx,:]), np.ravel(y_train.reshape(-1,1)[test_idx,:])"
   ]
  },
  {
   "cell_type": "code",
   "execution_count": 37,
   "metadata": {},
   "outputs": [],
   "source": [
    "from sklearn.linear_model import SGDClassifier\n",
    "\n",
    "sgd_clf = SGDClassifier(random_state=42)\n",
    "sgd_clf.fit(X_train_new, y_train_new)\n",
    "y_pred = sgd_clf.predict(X_val)"
   ]
  },
  {
   "cell_type": "code",
   "execution_count": 38,
   "metadata": {},
   "outputs": [
    {
     "data": {
      "text/plain": [
       "0.8552222222222222"
      ]
     },
     "execution_count": 38,
     "metadata": {},
     "output_type": "execute_result"
    }
   ],
   "source": [
    "from sklearn.metrics import accuracy_score\n",
    "accuracy_score(y_val, y_pred)"
   ]
  },
  {
   "cell_type": "code",
   "execution_count": 39,
   "metadata": {},
   "outputs": [
    {
     "data": {
      "text/plain": [
       "0.8586"
      ]
     },
     "execution_count": 39,
     "metadata": {},
     "output_type": "execute_result"
    }
   ],
   "source": [
    "y_pred_test = sgd_clf.predict(X_test)\n",
    "accuracy_score(y_test, y_pred_test)"
   ]
  },
  {
   "cell_type": "markdown",
   "metadata": {},
   "source": [
    "We got 85.2% accuracy on our validation set and 85.6% accuracy on the test set. Seems like the validation set measures test accuracy quite well!"
   ]
  },
  {
   "cell_type": "markdown",
   "metadata": {},
   "source": [
    "## Leave-One-Out Cross-Validation (LOOCV)\n",
    "\n",
    "LOOCV is quite similar to the validation set except now the validation set consists of only a single instance. This can be repeated for each instance in the training set and afterwards taking the average of the errors. However this is a computationally heavy process so below it is implemented with a smaller dataset of 100 instances:"
   ]
  },
  {
   "cell_type": "code",
   "execution_count": 93,
   "metadata": {},
   "outputs": [],
   "source": [
    "X_train_LOOCV, y_train_LOOCV = X[:1000], y[:1000]"
   ]
  },
  {
   "cell_type": "code",
   "execution_count": 72,
   "metadata": {},
   "outputs": [
    {
     "data": {
      "text/plain": [
       "(59999, 784)"
      ]
     },
     "execution_count": 72,
     "metadata": {},
     "output_type": "execute_result"
    }
   ],
   "source": [
    "np.shape(np.vstack((X_train[:1], X_train[2:])))"
   ]
  },
  {
   "cell_type": "code",
   "execution_count": 94,
   "metadata": {},
   "outputs": [],
   "source": [
    "errors = []\n",
    "for i in range(len(X_train_LOOCV)):\n",
    "    temp_X_train = np.vstack((X_train_LOOCV[:i],X_train_LOOCV[i+1:]))\n",
    "    temp_y_train = np.hstack((y_train_LOOCV[:i], y_train_LOOCV[i+1:]))\n",
    "    \n",
    "    sgd_clf.fit(temp_X_train, temp_y_train)\n",
    "    prediction = sgd_clf.predict([X_train_LOOCV[i]])\n",
    "    errors.append((prediction-y_train_LOOCV[i])[0])"
   ]
  },
  {
   "cell_type": "code",
   "execution_count": 95,
   "metadata": {},
   "outputs": [
    {
     "data": {
      "text/plain": [
       "0.846"
      ]
     },
     "execution_count": 95,
     "metadata": {},
     "output_type": "execute_result"
    }
   ],
   "source": [
    "(len(errors)-np.count_nonzero(errors))/len(errors)"
   ]
  },
  {
   "cell_type": "markdown",
   "metadata": {},
   "source": [
    "We got a 84.6% accuracy which is a great estimate considering only a 1000 instances were used for training."
   ]
  },
  {
   "cell_type": "markdown",
   "metadata": {},
   "source": [
    "## k-Fold Cross-Validation\n",
    "\n",
    "K-fold cross validation is very similar to LOOCV except now we use $k$ different validation sets instead of $n$. The most common types are $k=10$ and $k=5$:"
   ]
  },
  {
   "cell_type": "code",
   "execution_count": 101,
   "metadata": {},
   "outputs": [],
   "source": [
    "errors = []\n",
    "for i in range(1,10):\n",
    "    \n",
    "    temp_X_train = np.vstack((X_train_LOOCV[:i*100],X_train_LOOCV[i*100+100:]))\n",
    "    temp_y_train = np.hstack((y_train_LOOCV[:i*100], y_train_LOOCV[i*100+100:]))\n",
    "    \n",
    "    sgd_clf.fit(temp_X_train, temp_y_train)\n",
    "    prediction = sgd_clf.predict(X_train[i*100:i*100+100])\n",
    "    errors.append((100-(np.count_nonzero(prediction-y_train[i*100:i*100+100])))/100)"
   ]
  },
  {
   "cell_type": "code",
   "execution_count": 102,
   "metadata": {},
   "outputs": [
    {
     "data": {
      "text/plain": [
       "[0.83, 0.83, 0.89, 0.84, 0.8, 0.8, 0.87, 0.81, 0.87]"
      ]
     },
     "execution_count": 102,
     "metadata": {},
     "output_type": "execute_result"
    }
   ],
   "source": [
    "errors"
   ]
  },
  {
   "cell_type": "markdown",
   "metadata": {},
   "source": [
    "Here we get a list of different errors for the the 10 validation sets. By analysing mean and standard deviations of this list we can also see how prone our model is to overfitting."
   ]
  },
  {
   "cell_type": "markdown",
   "metadata": {},
   "source": [
    "## The Bootstrap\n",
    "\n",
    "The bootstrap essentially aims to calculate the confidence intervals or standard errors of data which has unknown distribution. It works by creating new data using a probability distribution given from the histograms of previous data. Here we can implement it below:"
   ]
  },
  {
   "cell_type": "code",
   "execution_count": 103,
   "metadata": {},
   "outputs": [
    {
     "data": {
      "image/png": "[encoded data removed]",
      "text/plain": [
       "<Figure size 720x288 with 2 Axes>"
      ]
     },
     "metadata": {
      "needs_background": "light"
     },
     "output_type": "display_data"
    }
   ],
   "source": [
    "x = [1,1,2,3,3,5,7,8,9,10,\n",
    "     10,11,11,13,13,15,16,17,18,18,\n",
    "     18,19,20,21,21,23,24,24,25,25,\n",
    "     25,25,26,26,26,27,27,27,27,27,\n",
    "     29,30,30,31,33,34,34,34,35,36,\n",
    "     36,37,37,38,38,39,40,41,41,42,\n",
    "     43,44,45,45,46,47,48,48,49,50,\n",
    "     51,52,53,54,55,55,56,57,58,60,\n",
    "     61,63,64,65,66,68,70,71,72,74,\n",
    "     75,77,81,83,84,87,89,90,90,91\n",
    "     ]\n",
    "\n",
    "import random\n",
    "random.seed(42)\n",
    "resampled_x = [random.choice(x) for i in range(100)]\n",
    "\n",
    "fig, axes = plt.subplots(nrows=1, ncols=2, figsize=(10, 4))\n",
    "axes[0].hist(x, bins=10)\n",
    "axes[0].set_title(\"Original\")\n",
    "axes[1].hist(resampled_x, bins=10, color=\"orange\")\n",
    "axes[1].set_title(\"Resampled\")\n",
    "fig.tight_layout()\n",
    "\n",
    "plt.show()"
   ]
  },
  {
   "cell_type": "code",
   "execution_count": 104,
   "metadata": {},
   "outputs": [
    {
     "name": "stdout",
     "output_type": "stream",
     "text": [
      "39.26\n"
     ]
    },
    {
     "data": {
      "text/plain": [
       "38.49"
      ]
     },
     "execution_count": 104,
     "metadata": {},
     "output_type": "execute_result"
    }
   ],
   "source": [
    "print(sum(x)/len(x))\n",
    "sum(resampled_x)/len(resampled_x)"
   ]
  },
  {
   "cell_type": "markdown",
   "metadata": {},
   "source": [
    "The new mean was pretty close to the old mean. Now if we repeat this many times we will get a normal distribution of the means which can be used to estimate a standard error for the original data despite us not knowing the true distribution! This can be useful for estimating the standard error of predictions on the validation sets when not knowing the true distributions."
   ]
  },
  {
   "cell_type": "code",
   "execution_count": null,
   "metadata": {},
   "outputs": [],
   "source": []
  }
 ],
 "metadata": {
  "kernelspec": {
   "display_name": "Python 3",
   "language": "python",
   "name": "python3"
  }
 },
 "nbformat": 4,
 "nbformat_minor": 4
}
