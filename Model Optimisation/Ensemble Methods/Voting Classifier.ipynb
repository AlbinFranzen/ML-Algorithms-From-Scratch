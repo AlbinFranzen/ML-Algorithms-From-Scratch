{
 "cells": [
  {
   "cell_type": "markdown",
   "metadata": {},
   "source": [
    "# Voting Classifier\n",
    "\n",
    "The voting classifier is an effective ensembling technique for combining classifiers. Essentially it uses multiple models to classify an instance and chooses the most common choice between the models. Let's implement it below:"
   ]
  },
  {
   "cell_type": "code",
   "execution_count": 68,
   "metadata": {},
   "outputs": [],
   "source": [
    "from sklearn.datasets import make_moons\n",
    "from sklearn.model_selection import train_test_split\n",
    "import numpy as np\n",
    "np.random.seed(42)\n",
    "\n",
    "X, y = make_moons(n_samples=500, noise=0.3, random_state=42)\n",
    "X_train, X_test, y_train, y_test = train_test_split(X, y)"
   ]
  },
  {
   "cell_type": "code",
   "execution_count": 72,
   "metadata": {},
   "outputs": [],
   "source": [
    "from sklearn.ensemble import RandomForestClassifier\n",
    "from sklearn.ensemble import VotingClassifier\n",
    "from sklearn.linear_model import LogisticRegression\n",
    "from sklearn.svm import SVC\n",
    "\n",
    "log_clf = LogisticRegression(solver=\"lbfgs\", random_state=42)\n",
    "rnd_clf = RandomForestClassifier(n_estimators=100, random_state=42)\n",
    "svm_clf = SVC(gamma=\"scale\", probability = True, random_state=42)"
   ]
  },
  {
   "cell_type": "code",
   "execution_count": 73,
   "metadata": {},
   "outputs": [
    {
     "name": "stdout",
     "output_type": "stream",
     "text": [
      "Logistic Regression: 0.864\n",
      "Random Forest Classifier: 0.896\n",
      "Support Vector Machine: 0.896\n"
     ]
    }
   ],
   "source": [
    "from sklearn.metrics import accuracy_score\n",
    "\n",
    "log_clf.fit(X_train, y_train)\n",
    "log_clf_y_pred = log_clf.predict(X_test)\n",
    "\n",
    "rnd_clf.fit(X_train, y_train)\n",
    "rnd_clf_y_pred = rnd_clf.predict(X_test)\n",
    "\n",
    "svm_clf.fit(X_train, y_train)\n",
    "svm_clf_y_pred = svm_clf.predict(X_test)\n",
    "\n",
    "print(\"Logistic Regression: \" + str(accuracy_score(y_test, log_clf_y_pred)))\n",
    "print(\"Random Forest Classifier: \" + str(accuracy_score(y_test, rnd_clf_y_pred)))\n",
    "print(\"Support Vector Machine: \" + str(accuracy_score(y_test, svm_clf_y_pred)))"
   ]
  },
  {
   "cell_type": "code",
   "execution_count": 74,
   "metadata": {},
   "outputs": [
    {
     "name": "stdout",
     "output_type": "stream",
     "text": [
      "Voting Classifier: 0.912\n"
     ]
    }
   ],
   "source": [
    "voting_clf_y_pred = mode(np.vstack((log_clf_y_pred, rnd_clf_y_pred, svm_clf_y_pred)))[0][0]\n",
    "print(\"Voting Classifier: \" + str(accuracy_score(y_test, voting_clf_y_pred)))"
   ]
  },
  {
   "cell_type": "markdown",
   "metadata": {},
   "source": [
    "As we can see the ensemble of weak learners creates a strong learner! Above we used hard voting(choosing majority vote) for the classifier but we can also use soft voting taking the average of the predicted probabilities and select the highest average:"
   ]
  },
  {
   "cell_type": "code",
   "execution_count": 94,
   "metadata": {},
   "outputs": [
    {
     "name": "stdout",
     "output_type": "stream",
     "text": [
      "Soft Voting Classifier: 0.92\n"
     ]
    }
   ],
   "source": [
    "soft_voting_clf_y_pred = np.mean([rnd_clf.predict_proba(X_test), svm_clf.predict_proba(X_test), log_clf.predict_proba(X_test)], axis=0).argmax(axis=1)\n",
    "print(\"Soft Voting Classifier: \" + str(accuracy_score(y_test, soft_voting_clf_y_pred)))"
   ]
  },
  {
   "cell_type": "markdown",
   "metadata": {},
   "source": [
    "Now we got even better!"
   ]
  },
  {
   "cell_type": "code",
   "execution_count": null,
   "metadata": {},
   "outputs": [],
   "source": []
  }
 ],
 "metadata": {
  "kernelspec": {
   "display_name": "Python 3",
   "language": "python",
   "name": "python3"
  },
  "language_info": {
   "codemirror_mode": {
    "name": "ipython",
    "version": 3
   },
   "file_extension": ".py",
   "mimetype": "text/x-python",
   "name": "python",
   "nbconvert_exporter": "python",
   "pygments_lexer": "ipython3",
   "version": "3.7.5"
  }
 },
 "nbformat": 4,
 "nbformat_minor": 4
}
