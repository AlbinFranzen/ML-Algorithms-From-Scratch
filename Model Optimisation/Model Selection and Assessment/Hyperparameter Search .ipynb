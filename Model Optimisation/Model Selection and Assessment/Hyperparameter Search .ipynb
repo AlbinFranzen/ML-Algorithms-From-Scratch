{
 "cells": [
  {
   "cell_type": "markdown",
   "metadata": {},
   "source": [
    "# Grid and Random Search\n",
    "\n",
    "Grid and random search are methods to search the hyperparameter space when no explicit cost function is defined.\n",
    "\n",
    "## Grid Search\n",
    "\n",
    "Grid search is a search method which creates two arrays of options and searches through each combination of them. An example is below:"
   ]
  },
  {
   "cell_type": "code",
   "execution_count": 7,
   "metadata": {},
   "outputs": [],
   "source": [
    "import numpy as np\n",
    "import itertools\n",
    "\n",
    "np.random.seed(42)"
   ]
  },
  {
   "cell_type": "code",
   "execution_count": 12,
   "metadata": {},
   "outputs": [
    {
     "data": {
      "text/plain": [
       "array([[0, 5],\n",
       "       [0, 6],\n",
       "       [0, 7],\n",
       "       [1, 5],\n",
       "       [1, 6],\n",
       "       [1, 7],\n",
       "       [2, 5],\n",
       "       [2, 6],\n",
       "       [2, 7],\n",
       "       [3, 5],\n",
       "       [3, 6],\n",
       "       [3, 7],\n",
       "       [4, 5],\n",
       "       [4, 6],\n",
       "       [4, 7]])"
      ]
     },
     "execution_count": 12,
     "metadata": {},
     "output_type": "execute_result"
    }
   ],
   "source": [
    "x = np.array([0, 1, 2, 3, 4]) #Options for hyperparameter A\n",
    "y = np.array([5, 6, 7]) #Options for hyperparameter B\n",
    "np.array(list(itertools.product(x, y)))"
   ]
  },
  {
   "cell_type": "markdown",
   "metadata": {},
   "source": [
    "Each combination of hyperparameters would give a different error for the model and then you select the one with the smallest. \n",
    "\n",
    "## Randomised Search\n",
    "\n",
    "Randomised search will instead select a random value for each hyperparameter to test them on the hopes that one combination will be good. "
   ]
  },
  {
   "cell_type": "code",
   "execution_count": 16,
   "metadata": {},
   "outputs": [
    {
     "data": {
      "text/plain": [
       "array([[1.82263456, 0.80839735],\n",
       "       [0.51157237, 0.30461377],\n",
       "       [0.19515478, 0.09767211],\n",
       "       [2.84665661, 0.68423303],\n",
       "       [2.8968961 , 0.44015249]])"
      ]
     },
     "execution_count": 16,
     "metadata": {},
     "output_type": "execute_result"
    }
   ],
   "source": [
    "x = 3* np.random.rand(5,1) #Options for hyperparameter A\n",
    "y = np.random.rand(5,1) #Options for hyperparameter B\n",
    "np.c_[x, y]"
   ]
  },
  {
   "cell_type": "markdown",
   "metadata": {},
   "source": [
    "A common approach is to initiate with a random search followed by a grid search around promising values."
   ]
  },
  {
   "cell_type": "code",
   "execution_count": null,
   "metadata": {},
   "outputs": [],
   "source": []
  }
 ],
 "metadata": {
  "kernelspec": {
   "display_name": "Python 3",
   "language": "python",
   "name": "python3"
  },
  "language_info": {
   "codemirror_mode": {
    "name": "ipython",
    "version": 3
   },
   "file_extension": ".py",
   "mimetype": "text/x-python",
   "name": "python",
   "nbconvert_exporter": "python",
   "pygments_lexer": "ipython3",
   "version": "3.7.5"
  }
 },
 "nbformat": 4,
 "nbformat_minor": 4
}
