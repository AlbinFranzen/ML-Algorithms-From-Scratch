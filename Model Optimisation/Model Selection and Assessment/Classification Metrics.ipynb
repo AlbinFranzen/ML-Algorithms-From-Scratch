{
 "cells": [
  {
   "cell_type": "markdown",
   "metadata": {},
   "source": [
    "# Classification Metrics\n",
    "\n",
    "Suppose we train a model on the MNIST dataset to classify handwritten numbers into numbers. We will classify if the number is a 5 or not a 5 for simplicity. In this notebook we will examine different methods of measuring the performance of a model. \n",
    "\n",
    "Let's start by importing the data and implementing a simple SGDClassifier because it is efficient for large datasets:"
   ]
  },
  {
   "cell_type": "code",
   "execution_count": 1,
   "metadata": {},
   "outputs": [],
   "source": [
    "# Scikit-Learn ≥0.20 is required\n",
    "import sklearn\n",
    "\n",
    "# Common imports\n",
    "import numpy as np\n",
    "import os\n",
    "\n",
    "# to make this notebook's output stable across runs\n",
    "np.random.seed(42)\n",
    "\n",
    "# To plot pretty figures\n",
    "%matplotlib inline\n",
    "import matplotlib as mpl\n",
    "import matplotlib.pyplot as plt\n",
    "mpl.rc('axes', labelsize=14)\n",
    "mpl.rc('xtick', labelsize=12)\n",
    "mpl.rc('ytick', labelsize=12)"
   ]
  },
  {
   "cell_type": "code",
   "execution_count": 2,
   "metadata": {},
   "outputs": [],
   "source": [
    "from sklearn.datasets import fetch_openml\n",
    "mnist = fetch_openml('mnist_784', version=1)"
   ]
  },
  {
   "cell_type": "code",
   "execution_count": 3,
   "metadata": {},
   "outputs": [],
   "source": [
    "X, y = mnist[\"data\"], mnist[\"target\"]\n",
    "y = y.astype(np.uint8)\n",
    "X_train, X_test, y_train, y_test = X[:60000], X[60000:], y[:60000], y[60000:]"
   ]
  },
  {
   "cell_type": "code",
   "execution_count": 4,
   "metadata": {},
   "outputs": [],
   "source": [
    "y_train_5 = (y_train == 5)\n",
    "y_test_5 = (y_test == 5)"
   ]
  },
  {
   "cell_type": "code",
   "execution_count": 6,
   "metadata": {},
   "outputs": [],
   "source": [
    "from sklearn.linear_model import SGDClassifier\n",
    "\n",
    "sgd_clf = SGDClassifier(max_iter=1000, tol=1e-3, loss=\"log\",random_state=42)\n",
    "sgd_clf.fit(X_train, y_train_5)\n",
    "y_pred_5 = sgd_clf.predict(X_test)"
   ]
  },
  {
   "cell_type": "markdown",
   "metadata": {},
   "source": [
    "## Accuracy\n",
    "\n",
    "The simplest way to measure performance is to see how often the classifier guesses the correct value. Let's see the result on our test set:"
   ]
  },
  {
   "cell_type": "code",
   "execution_count": 7,
   "metadata": {},
   "outputs": [
    {
     "data": {
      "text/plain": [
       "0.9704"
      ]
     },
     "execution_count": 7,
     "metadata": {},
     "output_type": "execute_result"
    }
   ],
   "source": [
    "np.count_nonzero(y_test_5 == y_pred_5)/len(y_test_5)"
   ]
  },
  {
   "cell_type": "markdown",
   "metadata": {},
   "source": [
    "Wow! A 97% accuracy!"
   ]
  },
  {
   "cell_type": "markdown",
   "metadata": {},
   "source": [
    "**BE WARY** Here we got a 97% accuracy but if we just randomly guessed we would get a 90% accuracy. So when dealing with *skewed datasets* where certain features are more common than others than be aware of this problem."
   ]
  },
  {
   "cell_type": "markdown",
   "metadata": {},
   "source": [
    "## Confusion Matrix\n",
    "\n",
    "Instead of measuring the total accuracy we can measure how many times the predictor predicts each feature and how many of those are correct or incorrect. We can summarise it as follows using the class A:\n",
    "\n",
    "*True Positives*  - how many of A were correctly classified as A \n",
    "\n",
    "*False Positives* - how many of not A were wrongly correctly classified as A\n",
    "\n",
    "*True Negatives* - how many of not A  were correctly classified as not A\n",
    "\n",
    "*False Negatives* - how many of not A were wrongly correctly classified as not A\n",
    "\n",
    "We can do this for every class in a dataset and compare each feature to every other feature. In total this produces a confusion matrix as seen below:"
   ]
  },
  {
   "cell_type": "code",
   "execution_count": 8,
   "metadata": {},
   "outputs": [
    {
     "data": {
      "text/plain": [
       "array([[9022,   86],\n",
       "       [ 210,  682]])"
      ]
     },
     "execution_count": 8,
     "metadata": {},
     "output_type": "execute_result"
    }
   ],
   "source": [
    "test_vec = (y_test_5 == 1)\n",
    "\n",
    "true_positives  = 0\n",
    "false_positives = 0\n",
    "true_negatives  = 0\n",
    "false_negatives = 0\n",
    "for i in range(len(y_test_5)):\n",
    "    if (y_pred_5[i] == 1) and (y_test_5[i] == 1):\n",
    "        true_positives +=1\n",
    "    if (y_pred_5[i] == 1) and (y_test_5[i] == 0):\n",
    "        false_positives +=1\n",
    "    if (y_pred_5[i] == 0) and (y_test_5[i] == 1):\n",
    "        false_negatives +=1\n",
    "    if (y_pred_5[i] == 0) and (y_test_5[i] == 0):\n",
    "        true_negatives +=1\n",
    "        \n",
    "np.array([[true_negatives, false_positives],[false_negatives, true_positives]])"
   ]
  },
  {
   "cell_type": "markdown",
   "metadata": {},
   "source": [
    "## Precision and Recall\n",
    "\n",
    "Precision is defined as how accurate the true positives are relation to all the positves. The formula for this is:\n",
    "\n",
    "$$\\text{precision}=\\frac{TP}{TP+FP}$$\n",
    "\n",
    "Recall is defined as the amount of amount of true positives in relation to all instances belonging to a class. The formula for this is:\n",
    "\n",
    "$$\\text{recall}=\\frac{TP}{TP+FN}$$\n",
    "\n",
    "With more precision we can more precisly say whether our positves are correct, but at the cost of recall since less instances will be classified as positives. This is called the *Precision/Recall Trade-Off* and can be measured in different ways the most common being their harmonic mean which is called the $F_1$ score. An $F_1$ score close to 1 is the best:\n",
    "\n",
    "$$F_1=\\frac{2}{\\frac{1}{precision}+\\frac{1}{recall}}$$\n",
    "\n",
    "Now lets implement this:"
   ]
  },
  {
   "cell_type": "code",
   "execution_count": 9,
   "metadata": {},
   "outputs": [
    {
     "name": "stdout",
     "output_type": "stream",
     "text": [
      "precision: 0.8880208333333334\n",
      "recall: 0.7645739910313901\n",
      "f1_score: 0.821686746987952\n"
     ]
    }
   ],
   "source": [
    "precision = true_positives/(true_positives+false_positives)\n",
    "recall    = true_positives/(true_positives+false_negatives)\n",
    "f1_score  = 2/(1/precision + 1/recall)\n",
    "\n",
    "print(\"precision: \" + str(precision))\n",
    "print(\"recall: \" + str(recall))\n",
    "print(\"f1_score: \" + str(f1_score))"
   ]
  },
  {
   "cell_type": "markdown",
   "metadata": {},
   "source": [
    "We can see that we have a high precision but a lower recall. This can be adjusted by varying different probabilities or by looking at the ROC curve:"
   ]
  },
  {
   "cell_type": "markdown",
   "metadata": {},
   "source": [
    "## ROC Curve\n",
    "\n",
    "The *reciever operating characteristic* (ROC) curve is plots *sensitivity* vs *specificity*. We can define them as follows:\n",
    "\n",
    "**Sensitivity:** The sensitivity is the *true positive rate* (recall)\n",
    "\n",
    "**Specificity:** The specificity is the *false positive rate* (1-sensitivity)\n",
    "\n",
    "In generic terms we can say that sensitivity is what proportion of the actual positives that were correctly classified and specificity is the proportion of actual negatives that were incorrectly classified. The ROC is a curve that plots these two against eachother for different thresholds:"
   ]
  },
  {
   "cell_type": "code",
   "execution_count": 11,
   "metadata": {},
   "outputs": [],
   "source": [
    "from sklearn.metrics import roc_curve\n",
    "\n",
    "fpr, tpr, thresholds = roc_curve(y_test_5, y_pred_5)"
   ]
  },
  {
   "cell_type": "code",
   "execution_count": 12,
   "metadata": {},
   "outputs": [
    {
     "data": {
      "image/png": "[encoded data removed]",
      "text/plain": [
       "<Figure size 576x432 with 1 Axes>"
      ]
     },
     "metadata": {
      "needs_background": "light"
     },
     "output_type": "display_data"
    }
   ],
   "source": [
    "def plot_roc_curve(fpr, tpr, label=None):\n",
    "    plt.plot(fpr, tpr, linewidth=2, label=label)\n",
    "    plt.plot([0, 1], [0, 1], 'k--') # dashed diagonal\n",
    "    plt.axis([0, 1, 0, 1])                                    \n",
    "    plt.xlabel('Specificity', fontsize=16) \n",
    "    plt.ylabel('Sensitivity', fontsize=16)    \n",
    "    plt.grid(True)                                            \n",
    "\n",
    "plt.figure(figsize=(8, 6))                         \n",
    "plot_roc_curve(fpr, tpr)                       \n",
    "plt.show()"
   ]
  },
  {
   "cell_type": "markdown",
   "metadata": {},
   "source": [
    "The graph above looks OK but we see the curve doesn't perfectly match the top of the square. To quantify this we can measure the area under the curve for the ROC which is called the ROC AUC score. Here it is implemented with sklearn:"
   ]
  },
  {
   "cell_type": "code",
   "execution_count": 13,
   "metadata": {},
   "outputs": [
    {
     "data": {
      "text/plain": [
       "0.8775658712293534"
      ]
     },
     "execution_count": 13,
     "metadata": {},
     "output_type": "execute_result"
    }
   ],
   "source": [
    "from sklearn.metrics import roc_auc_score\n",
    "\n",
    "roc_auc_score(y_test_5, y_pred_5)"
   ]
  },
  {
   "cell_type": "code",
   "execution_count": null,
   "metadata": {},
   "outputs": [],
   "source": []
  }
 ],
 "metadata": {
  "kernelspec": {
   "display_name": "Python 3",
   "language": "python",
   "name": "python3"
  },
  "language_info": {
   "codemirror_mode": {
    "name": "ipython",
    "version": 3
   },
   "file_extension": ".py",
   "mimetype": "text/x-python",
   "name": "python",
   "nbconvert_exporter": "python",
   "pygments_lexer": "ipython3",
   "version": "3.7.5"
  }
 },
 "nbformat": 4,
 "nbformat_minor": 4
}
